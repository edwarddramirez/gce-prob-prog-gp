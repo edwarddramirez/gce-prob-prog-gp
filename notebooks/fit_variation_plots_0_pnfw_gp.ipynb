{
 "cells": [
  {
   "cell_type": "code",
   "execution_count": 1,
   "metadata": {},
   "outputs": [],
   "source": [
    "%reload_ext autoreload\n",
    "%autoreload 2\n",
    "\n",
    "import sys\n",
    "sys.path.append(\"..\")\n",
    "\n",
    "import numpy as np\n",
    "import healpy as hp\n",
    "from astropy.io import fits\n",
    "from pprint import pprint\n",
    "from tqdm import tqdm\n",
    "import pickle\n",
    "import corner\n",
    "import os\n",
    "import arviz as az\n",
    "\n",
    "from scipy import optimize\n",
    "from scipy.stats import poisson\n",
    "\n",
    "import jax\n",
    "import jax.numpy as jnp\n",
    "\n",
    "%matplotlib inline\n",
    "import matplotlib as mpl\n",
    "import matplotlib.pyplot as plt\n",
    "mpl.rc_file('../utils/matplotlibrc')\n",
    "\n",
    "from utils import ed_fcts as ef"
   ]
  },
  {
   "cell_type": "code",
   "execution_count": 2,
   "metadata": {},
   "outputs": [],
   "source": [
    "# first, load samples from each run\n",
    "\n",
    "# load SVI fit results (these should be the only parameters that you are loading)\n",
    "gpu_id = '0'\n",
    "\n",
    "# sim name\n",
    "sim_name = 'canon_g1_pnfw'\n",
    "\n",
    "# load SVI fit results (these should be the only parameters that you are loading)\n",
    "sim_id = 7.1234567\n",
    "temp_id = 5.23457\n",
    "gp_id = 1.16\n",
    "blg_id = -1\n",
    "mod_id = 0\n",
    "svi_id = 0\n",
    "\n",
    "# variable inputs\n",
    "sim_seeds = np.arange(10)\n",
    "svi_seeds = np.arange(0,1)"
   ]
  },
  {
   "cell_type": "code",
   "execution_count": 3,
   "metadata": {},
   "outputs": [],
   "source": [
    "# load GPU\n",
    "os.environ['XLA_PYTHON_CLIENT_PREALLOCATE'] = 'false'\n",
    "os.environ['CUDA_VISIBLE_DEVICES'] = gpu_id\n",
    "\n",
    "data_dir = ef.load_data_dir(sim_name)\n",
    "os.system(\"mkdir -p \"+data_dir)\n",
    "\n",
    "# Load the simulated templates\n",
    "## NOTE: This information should already be taken into account once\n",
    "## specifying the relevant IDs ; however, this is a good way to double-check\n",
    "## you're loading what you want\n",
    "ebin = 10\n",
    "\n",
    "temp_dict = np.load(data_dir + 'all_templates_ebin' + str(ebin)  + '.npy', allow_pickle=True).item()"
   ]
  },
  {
   "cell_type": "code",
   "execution_count": 4,
   "metadata": {},
   "outputs": [
    {
     "name": "stdout",
     "output_type": "stream",
     "text": [
      "/\n",
      "    ebin10_smp_svi_0.01_20000_mvn_16_0_0.p\n",
      "    settings_7p1234567_5p23457_1p16_-1_0_0_0_0.py\n",
      "    __init__.py\n",
      "    summary.txt\n",
      "__pycache__/\n",
      "    settings_7p1234567_5p23457_1p16_-1_0_0_0_0.cpython-311.pyc\n"
     ]
    },
    {
     "name": "stderr",
     "output_type": "stream",
     "text": [
      "/home/edr76/.conda/envs/jax/lib/python3.11/site-packages/tqdm/auto.py:21: TqdmWarning: IProgress not found. Please update jupyter and ipywidgets. See https://ipywidgets.readthedocs.io/en/stable/user_install.html\n",
      "  from .autonotebook import tqdm as notebook_tqdm\n"
     ]
    }
   ],
   "source": [
    "sim_seed = 0\n",
    "svi_seed = 0\n",
    "\n",
    "fit_filename, module_name = ef.generate_fit_filename_from_ids(sim_id, temp_id, gp_id, blg_id, mod_id, svi_id, sim_seed, svi_seed)\n",
    "fit_dir = data_dir + 'fits/' + fit_filename + '/'\n",
    "ef.list_files(fit_dir)\n",
    "\n",
    "sys.path.append(fit_dir)\n",
    "import importlib \n",
    "module = importlib.import_module(module_name)\n",
    "\n",
    "# Load all the variables from the module\n",
    "globals().update(vars(module))\n",
    "\n",
    "file_name = ('ebin' + str_ebin + '_smp_svi_' + \n",
    "             str_lr + '_' + str_n_steps + '_' + \n",
    "                str_guide + '_' + str_num_particles + '_' + \n",
    "                str_sim_seed + '_' + str_svi_seed + '.p')\n",
    "\n",
    "if is_gp:\n",
    "   samples, svi_results, gp_samples = pickle.load(open(fit_dir + file_name, 'rb'))\n",
    "else:\n",
    "   samples, svi_results = pickle.load(open(fit_dir + file_name, 'rb'))"
   ]
  },
  {
   "cell_type": "code",
   "execution_count": 5,
   "metadata": {},
   "outputs": [
    {
     "name": "stdout",
     "output_type": "stream",
     "text": [
      "[2082.1792 1643.0005 1546.3923 1805.0967 1816.4827 2150.3032 1768.5325\n",
      " 1795.3352 1816.3582 2175.5532 2148.4355 2055.3965 2563.966  1855.696\n",
      " 1619.1985 1754.662  1523.0856 1598.0437 1934.212  1715.7561 2168.8616\n",
      " 1708.4941 1677.2158 2805.8892 1914.6111 2066.241  1759.1792 2041.6976\n",
      " 1591.1128 2101.79   1642.5458 1602.166  1352.1042 1881.8562 2036.7361\n",
      " 1433.2811 2344.259  2099.5005 2165.3645 1888.5431 1837.6143 1799.4429\n",
      " 2075.4111 1727.6511 1686.1692 1702.656  1575.1165 1536.6902 1497.1812\n",
      " 1869.9579 1842.0698 2335.5623 1971.5011 1848.5427 2216.6365 1611.0728\n",
      " 1775.2502 2087.9424 1923.9396 1583.4326 1908.7094 2203.6963 2008.4163\n",
      " 1766.4396 1813.73   2246.1653 1472.2533 1620.2349 1707.9888 2153.5557\n",
      " 1979.074  1562.0193 1947.4678 1742.528  2283.7925 2090.8564 1530.0199\n",
      " 2271.0981 1688.3542 2071.2642 1690.7329 1679.0045 1410.6511 1902.5507\n",
      " 1315.1704 1650.6096 2357.203  1804.144  2453.3025 1702.2996 1945.7756\n",
      " 2062.0315 1904.1992 2136.306  1719.2875 2074.5474 1687.7273 2452.2747\n",
      " 1976.156  1939.419  2080.873  2312.232  1599.767  2187.974  1981.5863\n",
      " 2054.8086 1895.9375 1946.0011 1754.0321 1705.0415 2010.4144 2095.6284\n",
      " 2075.8462 2069.0054 2190.1433 2087.0989 2258.9922 2063.802  1959.9707\n",
      " 1714.0288 1918.1399 1397.1638 2185.4639 2497.9749 1581.3599 1814.281\n",
      " 1619.7572 1948.3096 2437.913  1493.7473 1754.3237 1350.2563 1567.1912\n",
      " 2594.754  2051.54   1839.4202 1794.3146 1897.9133 2094.89   1708.1497\n",
      " 1592.5962 1847.615  1557.0803 1774.4404 1533.5354 2097.4746 1693.3138\n",
      " 1894.0233 1524.5225 1268.7089 2302.6284 1670.9277 1774.4473 1587.1211\n",
      " 1670.1603 2163.2363 1815.2417 1689.5417 1677.883  1591.2982 1764.9602\n",
      " 1770.092  1597.7922 1942.115  1571.0603 1563.7122 2168.8403 2218.2878\n",
      " 1811.0513 1716.754  2096.0625 1991.1317 1639.9331 2264.9014 1929.3137\n",
      " 1725.833  2084.5852 1547.8871 2127.827  2062.636  2013.7898 1603.2485\n",
      " 2087.4229 1480.9014 2346.0566 1549.5054 2061.083  2061.393  1923.4868\n",
      " 2455.1758 1466.6504 2315.4644 1649.2268 1905.0198 1638.5928 1706.553\n",
      " 1715.1213 2008.9604 1413.9614 1978.3224 1696.3849 1667.7192 1822.3029\n",
      " 1837.336  1915.4247 1455.5701 2530.9343 1992.5869 1998.3887 1965.5261\n",
      " 1489.6113 1728.4547 2161.8242 1461.9188 2079.0923 2281.0835 1522.4382\n",
      " 1675.1648 2354.2832 2130.4443 1982.8022 1498.1617 2158.909  1507.5005\n",
      " 1785.967  1522.2684 2258.6016 1728.3035 1835.0303 2663.0935 1849.2784\n",
      " 2109.9927 2096.9019 1699.1599 1262.4556 1998.4044 1855.9786 2042.771\n",
      " 1920.2784 1582.947  1886.7253 1618.0092 2441.735  1956.9241 1732.8986\n",
      " 2023.7443 2485.1907 1490.2438 2280.893  1806.5371 1722.7817 2437.2778\n",
      " 1885.2916 2424.0112 2047.959  3025.7612 1996.472  2005.0685 1508.9567\n",
      " 1852.2118 1457.9244 1865.9758 2016.0188 1903.8239 2151.1748 1985.4451\n",
      " 2240.1855 1601.5963 1815.4255 1729.398  2206.0994 1912.2192 1862.5466\n",
      " 1444.9199 1817.2166 2314.8684 1693.9596 1984.8896 2065.8127 2023.5394\n",
      " 1800.0027 1937.7874 1870.5404 1845.0471 2463.0498 1675.2681 1954.6678\n",
      " 1614.0149 1559.9027 1457.5974 2440.9395 2347.2256 1596.5814 1622.2974\n",
      " 1699.01   2604.4766 1559.1506 1421.4685 2475.2324 1783.8807 1954.49\n",
      " 1638.5758 1831.9542 1766.4685 1809.9619 1670.2957 2021.5938 1744.221\n",
      " 1890.9476 1672.4609 1635.5858 1903.4495 2164.7705 1978.8252 1681.1791\n",
      " 1809.8481 1886.7766 1925.0107 1745.0094 1869.2852 2159.5127 1817.8972\n",
      " 1747.9086 1545.8995 2056.0664 1380.1276 2135.8784 1614.2987 1844.3372\n",
      " 1831.7839 1876.6333 1808.1692 1467.7449 1926.237  2438.1619 1651.5386\n",
      " 1693.6908 1790.2379 2238.9663 1207.4381 1419.0088 1456.683  1794.6316\n",
      " 2133.276  2009.3412 1629.4612 2360.4985 1596.8529 1841.2311 1960.8733\n",
      " 1758.6636 1946.426  1992.0076 2129.1177 2236.1284 1745.8522 2036.1913\n",
      " 1788.1166 1541.5627 1668.7303 1682.1888 1821.6667 2101.56   1970.6748\n",
      " 1884.5452 2179.216  1761.0929 1995.2721 2460.1943 2014.7083 2193.7146\n",
      " 1618.9346 1805.5345 2025.4213 1627.1398 1838.5889 1678.8992 1924.4775\n",
      " 1905.2853 1962.0599 1702.346  2114.3606 2529.7356 1512.2922 2501.6074\n",
      " 1883.9178 1944.3147 1181.9456 1936.2644 1607.5889 1654.0289 1776.5039\n",
      " 2074.457  2501.461  1826.3726 1396.2998 2033.5552 1677.5308 1901.3337\n",
      " 2314.2202 2154.1123 1394.9114 1465.8525 1588.4521 1802.8018 1784.4808\n",
      " 1868.9769 2266.3516 1887.2639 2022.0986 1789.9202 1779.219  1766.4531\n",
      " 1699.5706 1790.0477 1536.1874 2124.6191 1746.8042 1787.4106 2012.3229\n",
      " 1917.0518 1745.9535 1455.091  1964.2151 2125.8013 2021.4979 1825.957\n",
      " 1309.6685 2308.3364 2535.7424 1950.0729 2295.1104 1739.5537 1464.2776\n",
      " 2628.663  1825.1274 1852.2494 1960.0349 1413.4785 1933.6553 1706.0085\n",
      " 2046.9089 1968.4978 1558.594  1871.9177 2280.669  2090.9495 2034.6321\n",
      " 1870.1177 1580.2649 1885.6864 2322.9165 1973.4458 1415.4026 1652.165\n",
      " 1980.427  1760.7856 2061.847  1983.2981 1978.0681 1846.889  1631.9869\n",
      " 2015.4282 2087.9265 2082.5198 2726.4746 1588.811  2164.7776 1829.4623\n",
      " 1498.6042 1739.7837 1493.9866 1405.2793 1923.2324 2065.3152 2040.5929\n",
      " 1873.1384 2063.4119 1896.7837 1967.1152 1697.0939 1772.6611 1829.4261\n",
      " 2205.6292 1392.9048 1826.198  1868.8987 1829.5763 2251.522  2036.3225\n",
      " 1459.1699 1872.5477 1642.5817 2255.0693 1995.6855 1561.6941 1457.4583\n",
      " 1809.3872 2046.5554 2149.165  1538.9752 1773.8176 2116.108  1976.9331\n",
      " 1791.6636 2161.8716 2369.9956 1792.8958 2235.4316 1632.5586 1795.7927\n",
      " 1546.1831 2195.9097 1486.3689 1850.3438 1775.3003 2431.24   1742.3301\n",
      " 2058.9697 1806.3206 1347.1135 1930.079  2067.765  1891.969  2088.9524\n",
      " 1566.4677 1782.325  1639.9044 1873.5315 1780.363  1822.3762 1916.3387\n",
      " 2161.0469 1443.5586 1853.2704 1964.1326 1969.3579 1732.4434 1487.753\n",
      " 1823.6804 1833.1523 2061.548  1958.4785 1555.3445 1882.242  2173.5942\n",
      " 1837.5684 1908.6238 2162.8643 1882.7784 2189.6375 1654.2241 1778.6467\n",
      " 1688.321  1738.7041 1776.5669 2073.6743 1701.3528 1866.2974 2244.8965\n",
      " 1686.1663 2014.287  1940.3821 1796.2864 2187.0762 2275.1748 2054.48\n",
      " 1787.2474 1739.464  1442.5974 1392.3436 1998.3203 1760.239  1565.1355\n",
      " 2029.331  1903.9133 2165.8564 1437.6097 1280.0022 2091.1519 1868.7902\n",
      " 2038.9121 2018.956  2090.7715 1986.9165 1790.7623 1714.6978 1773.0498\n",
      " 1808.0958 1988.4874 1585.4799 1799.2249 1989.7874 1479.4281 1828.227\n",
      " 1406.1592 1993.4412 2290.9373 2003.2909 1936.2029 1946.0968 1790.611\n",
      " 1559.6836 1940.6653 1768.0847 1922.3933 2223.0444 1658.0746 1697.665\n",
      " 2083.7085 1907.0457 1683.0979 1820.5503 1989.2231 1822.4604 1610.433\n",
      " 1791.7805 2151.324  1914.8143 1832.8467 2061.9207 1631.1251 1942.136\n",
      " 1524.012  1563.8955 1874.1045 1997.1328 2322.7878 1879.0431 1787.2358\n",
      " 1847.4852 1660.7478 1543.4265 2184.5032 1894.5156 2388.5354 2122.7593\n",
      " 2017.645  1841.2732 1898.7689 2109.811  1733.0308 1744.4492 1834.4397\n",
      " 1985.1771 1970.0569 2067.816  1581.0193 1817.8806 2184.998  2477.83\n",
      " 2025.0715 1560.7227 1715.9993 2253.0256 1810.7317 1649.8367 1682.6802\n",
      " 1953.3391 1951.426  1875.9622 1849.7589 2044.6008 1465.1971 1718.4548\n",
      " 1783.9749 1661.3596 1615.5635 2430.0654 2274.5967 1598.1647 2287.8066\n",
      " 2229.1328 1767.4697 2474.3372 1795.8428 1409.1456 1877.5347 1887.9156\n",
      " 2176.0962 1333.179  1856.4727 1610.6937 2277.921  2242.0334 1293.0364\n",
      " 1601.053  1615.8381 2234.1191 1941.1228 1406.8086 1896.5452 2053.6382\n",
      " 1731.938  2087.2083 1475.0281 1604.3606 2543.1062 1390.452  1371.3456\n",
      " 2149.4219 1409.8715 2284.9106 1603.7986 1958.2252 1734.0566 1459.5555\n",
      " 1762.86   1839.228  2097.1538 1644.939  1675.3735 2642.106  1629.5028\n",
      " 1808.3568 1652.0566 1601.2339 1765.072  2346.6597 1807.1309 2453.4531\n",
      " 1624.3242 2508.7446 1736.5295 2419.7397 1604.48   1486.9515 1853.8079\n",
      " 2047.4406 1617.493  2002.4121 1764.718  1829.8992 2120.2217 1759.8441\n",
      " 2041.5437 1485.242  1702.4663 1992.6014 1797.4487 2028.9941 1937.5886\n",
      " 1976.6888 1945.7188 1902.6017 1562.3794 2059.0366 1713.0713 2056.671\n",
      " 1704.3667 2122.9016 1582.8145 1947.1483 2026.5808 1597.8691 1924.9424\n",
      " 2214.7837 1490.8005 1748.1094 1814.3774 1645.4492 1582.6378 2195.7268\n",
      " 1498.7517 1896.3951 1747.1329 1987.9137 1748.0889 1850.0898 1693.3607\n",
      " 1473.6985 1982.4558 1907.382  2273.7207 1606.5334 1606.8    1816.5833\n",
      " 1989.7533 2271.2808 1745.0559 1980.8545 2289.1426 1623.5612 1725.232\n",
      " 1683.8287 2283.1538 2298.987  1654.0212 2227.5906 2476.7966 1604.4691\n",
      " 1889.4126 1595.2534 1858.1731 1698.3534 1386.3882 1881.5807 1807.1552\n",
      " 2495.8896 2187.9087 1933.8369 1814.6367 1790.3743 1462.7793 1665.4792\n",
      " 1613.5632 2449.2505 1933.1074 1695.3623 2432.497  2329.1846 1811.7676\n",
      " 2197.016  1628.8748 1881.9297 1923.2983 1994.0804 2040.8936 2674.3296\n",
      " 2005.0172 2060.8535 2367.8647 1947.7438 2354.9343 1940.3895 1875.7205\n",
      " 1668.296  1803.2476 1644.5447 1991.625  1932.7195 2067.5127 1882.3911\n",
      " 1841.689  1940.043  1644.1938 1948.0618 1743.0955 1686.7749 1692.4182\n",
      " 1482.2588 1736.758  2046.8386 1888.3984 1873.3221 1995.402  2173.1885\n",
      " 1909.313  1729.012  1483.8094 2777.7725 2271.2085 1856.8442 1497.2533\n",
      " 2613.2751 2314.736  1164.7316 2057.895  1833.6458 1829.4263 1669.9114\n",
      " 2390.352  1552.19   1963.5366 1745.1904 2100.305  1534.742  2274.056\n",
      " 1672.0685 1757.1978 1696.218  1882.2681 1676.665  1518.9528 1638.6729\n",
      " 1746.198  1926.1799 1845.2312 1479.0044 1872.618  2065.2732 2184.1118\n",
      " 1567.2454 1907.6375 2170.3896 2274.7644 2219.268  2110.1514 1638.5457\n",
      " 1403.4375 1673.2922 1735.6017 1998.5906 1553.6434 1874.3546 1771.7494\n",
      " 1524.9283 1684.6694 1600.9464 1579.7625 1999.7982 2155.0017 1660.8622\n",
      " 1675.4431 1753.3374 1411.8538 2766.7915 2055.8894 1609.3489 2357.3528\n",
      " 1683.3777 1711.426  2230.1287 1773.8673 1902.312  1872.9395 1590.2218\n",
      " 1746.0791 1392.9651 1928.5074 1283.6642 1639.2817 1924.6475 1724.2678\n",
      " 1359.4519 2335.9478 2308.2847 1887.9342 2498.0037 1829.7733 2125.0752\n",
      " 1981.0344 2108.6582 2001.2039 1816.881  1939.673  1859.4539 2135.7793\n",
      " 1536.6504 1689.6396 1997.6218 2574.4856 1575.8247 1611.6405 1986.0133\n",
      " 2228.7139 1917.5005 1952.4243 2369.1162 1986.4366 2123.9204 1996.1829\n",
      " 1704.841  2289.7446 2132.5564 2029.7135 1908.8607 1995.7261 2015.3473\n",
      " 1894.7937 2176.2124 2139.278  1839.4229 1766.0905 1763.6293 2521.3452\n",
      " 1804.6248 1812.3962 1888.2291 1692.9954 2170.684  1334.3402 2413.106\n",
      " 2188.9238 2066.4246 2620.2065 1576.3308 1794.4307 1987.3733 1703.3252\n",
      " 2065.4233 2135.8193 2165.1533 2986.665  1826.6516 2083.8044 1935.6675\n",
      " 1404.3889 1755.0098 2660.037  1866.8821 1636.6218 1632.2712 2422.2698\n",
      " 1718.4219 1567.0946 1425.0801 1930.135  1877.8062 1866.8328]\n"
     ]
    }
   ],
   "source": [
    "print(jnp.exp(gp_samples).sum(axis = 1))"
   ]
  },
  {
   "cell_type": "code",
   "execution_count": 6,
   "metadata": {},
   "outputs": [
    {
     "name": "stderr",
     "output_type": "stream",
     "text": [
      "svi_seeds:   0%|          | 0/1 [00:00<?, ?it/s]"
     ]
    },
    {
     "name": "stderr",
     "output_type": "stream",
     "text": [
      "sim_seeds: 100%|██████████| 10/10 [00:00<00:00, 44.08it/s][A\n",
      "svi_seeds: 100%|██████████| 1/1 [00:00<00:00,  4.34it/s]\n"
     ]
    }
   ],
   "source": [
    "# TODO: Probably a better way to collect this data; \n",
    "# for example, make a dictionary whose inputs are ordered pairs of the variable inputs\n",
    "\n",
    "samples_svi_sim = []\n",
    "svi_results_svi_sim = []\n",
    "gp_samples_svi_sim = []\n",
    "\n",
    "for svi_seed in tqdm(svi_seeds, desc = 'svi_seeds'):\n",
    "    samples_sim = []\n",
    "    svi_results_sim = []\n",
    "    gp_samples_sim = []\n",
    "    for sim_seed in tqdm(sim_seeds, desc = 'sim_seeds'):\n",
    "        # if fit_dir in sys.path:\n",
    "        #     sys.path.pop(-1)\n",
    "        fit_filename, module_name = ef.generate_fit_filename_from_ids(sim_id, temp_id, gp_id, blg_id, mod_id, svi_id, sim_seed, svi_seed)\n",
    "        fit_dir = data_dir + 'fits/' + fit_filename + '/'\n",
    "\n",
    "        sys.path.append(fit_dir)\n",
    "        import importlib \n",
    "        module = importlib.import_module(module_name)\n",
    "\n",
    "        # Load all the variables from the module\n",
    "        globals().update(vars(module))\n",
    "\n",
    "        file_name = ('ebin' + str_ebin + '_smp_svi_' + \n",
    "                     str_lr + '_' + str_n_steps + '_' + \n",
    "                        str_guide + '_' + str_num_particles + '_' + \n",
    "                        str_sim_seed + '_' + str_svi_seed + '.p')\n",
    "\n",
    "        if is_gp:\n",
    "           samples, svi_results, gp_samples = pickle.load(open(fit_dir + file_name, 'rb'))\n",
    "        else:\n",
    "           samples, svi_results = pickle.load(open(fit_dir + file_name, 'rb'))\n",
    "        \n",
    "        samples_sim.append(samples)\n",
    "        svi_results_sim.append(svi_results)\n",
    "        gp_samples_sim.append(gp_samples)\n",
    "        \n",
    "    samples_svi_sim.append(samples_sim)\n",
    "    svi_results_svi_sim.append(svi_results_sim)\n",
    "    gp_samples_svi_sim.append(gp_samples_sim)"
   ]
  },
  {
   "cell_type": "code",
   "execution_count": 7,
   "metadata": {},
   "outputs": [
    {
     "name": "stderr",
     "output_type": "stream",
     "text": [
      "[autoreload of __main__ failed: Traceback (most recent call last):\n",
      "  File \"/home/edr76/.conda/envs/jax/lib/python3.11/site-packages/IPython/extensions/autoreload.py\", line 276, in check\n",
      "    superreload(m, reload, self.old_objects)\n",
      "  File \"/home/edr76/.conda/envs/jax/lib/python3.11/site-packages/IPython/extensions/autoreload.py\", line 475, in superreload\n",
      "    module = reload(module)\n",
      "             ^^^^^^^^^^^^^^\n",
      "  File \"/home/edr76/.conda/envs/jax/lib/python3.11/importlib/__init__.py\", line 148, in reload\n",
      "    raise ImportError(msg.format(name), name=name)\n",
      "ImportError: module settings_7p1234567_5p23457_1p16_-1_0_0_9_0 not in sys.modules\n",
      "]\n"
     ]
    }
   ],
   "source": [
    "from models.poissonian_ed import EbinPoissonModel # to set GPU at the beginning\n",
    "\n",
    "ebinmodel = EbinPoissonModel(\n",
    "        # all parameters\n",
    "        rig_temp_list = rig_temp_list,\n",
    "        hyb_temp_list = hyb_temp_list,\n",
    "        var_temp_list = var_temp_list,\n",
    "        is_gp = is_gp,\n",
    "        gp_deriv = gp_deriv,\n",
    "        data_file = data_file,\n",
    "        rig_temp_sim = rig_temp_sim,\n",
    "        hyb_temp_sim = hyb_temp_sim,\n",
    "        var_temp_sim = var_temp_sim,\n",
    "        is_custom_blg= is_custom_blg,\n",
    "        custom_blg_id = custom_blg_id,\n",
    "        sim_seed = sim_seed,\n",
    "        Nu = Nu,\n",
    "        u_option = u_option,\n",
    "        u_grid_type = u_grid_type,\n",
    "        u_weights = u_weights,\n",
    "        Np = Np,\n",
    "        p_option = p_option,\n",
    "        Nsub = Nsub,\n",
    "        ebin = ebin,\n",
    "        is_float64 = is_float64,\n",
    "        debug_nans = debug_nans,\n",
    "        no_ps_mask = no_ps_mask,\n",
    "        p_grid_type = p_grid_type,\n",
    "        p_weights = p_weights,\n",
    "        gp_kernel = gp_kernel,\n",
    "        gp_params = gp_params,\n",
    "        gp_scale_option = gp_scale_option,\n",
    "        monotonicity_hyperparameter = monotonicity_hyperparameter,\n",
    "        nfw_gamma = nfw_gamma,\n",
    "        )\n",
    "ebinmodel.config_model(ebin=ebin)"
   ]
  },
  {
   "cell_type": "code",
   "execution_count": 8,
   "metadata": {},
   "outputs": [
    {
     "name": "stderr",
     "output_type": "stream",
     "text": [
      "svi_seeds:   0%|          | 0/1 [00:00<?, ?it/s]"
     ]
    },
    {
     "name": "stdout",
     "output_type": "stream",
     "text": [
      "iso\n",
      "psc\n",
      "bub\n",
      "pib\n"
     ]
    },
    {
     "name": "stderr",
     "output_type": "stream",
     "text": [
      "\n",
      "\u001b[A\n",
      "\u001b[A\n",
      "\u001b[A\n",
      "\u001b[A\n",
      "\u001b[A\n",
      "\u001b[A\n",
      "\u001b[A\n",
      "\u001b[A\n",
      "\u001b[A\n",
      "\u001b[A\n",
      "\u001b[A\n",
      "\u001b[A\n",
      "\u001b[A\n",
      "\u001b[A\n",
      "\u001b[A\n",
      "\u001b[A\n",
      "\u001b[A\n",
      "\u001b[A\n",
      "\u001b[A\n",
      "\u001b[A\n",
      "\u001b[A\n",
      "\u001b[A\n",
      "\u001b[A\n",
      "\u001b[A\n",
      "\u001b[A\n",
      "\u001b[A\n",
      "\u001b[A\n",
      "100%|██████████| 1000/1000 [00:03<00:00, 325.62it/s]\n"
     ]
    },
    {
     "name": "stdout",
     "output_type": "stream",
     "text": [
      "ics\n"
     ]
    },
    {
     "name": "stderr",
     "output_type": "stream",
     "text": [
      "\n",
      "\u001b[A\n",
      "\u001b[A\n",
      "\u001b[A\n",
      "\u001b[A\n",
      "\u001b[A\n",
      "\u001b[A\n",
      "\u001b[A\n",
      "\u001b[A\n",
      "\u001b[A\n",
      "\u001b[A\n",
      "\u001b[A\n",
      "\u001b[A\n",
      "\u001b[A\n",
      "\u001b[A\n",
      "\u001b[A\n",
      "\u001b[A\n",
      "\u001b[A\n",
      "\u001b[A\n",
      "\u001b[A\n",
      "\u001b[A\n",
      "\u001b[A\n",
      "\u001b[A\n",
      "\u001b[A\n",
      "\u001b[A\n",
      "\u001b[A\n",
      "\u001b[A\n",
      "100%|██████████| 1000/1000 [00:02<00:00, 359.68it/s]\n"
     ]
    },
    {
     "name": "stdout",
     "output_type": "stream",
     "text": [
      "iso\n",
      "psc\n",
      "bub\n",
      "pib\n"
     ]
    },
    {
     "name": "stderr",
     "output_type": "stream",
     "text": [
      "\n",
      "\u001b[A\n",
      "\u001b[A\n",
      "\u001b[A\n",
      "\u001b[A\n",
      "\u001b[A\n",
      "\u001b[A\n",
      "\u001b[A\n",
      "\u001b[A\n",
      "\u001b[A\n",
      "\u001b[A\n",
      "\u001b[A\n",
      "\u001b[A\n",
      "\u001b[A\n",
      "\u001b[A\n",
      "\u001b[A\n",
      "\u001b[A\n",
      "\u001b[A\n",
      "\u001b[A\n",
      "\u001b[A\n",
      "\u001b[A\n",
      "\u001b[A\n",
      "\u001b[A\n",
      "\u001b[A\n",
      "\u001b[A\n",
      "\u001b[A\n",
      "\u001b[A\n",
      "100%|██████████| 1000/1000 [00:02<00:00, 362.00it/s]\n"
     ]
    },
    {
     "name": "stdout",
     "output_type": "stream",
     "text": [
      "ics\n"
     ]
    },
    {
     "name": "stderr",
     "output_type": "stream",
     "text": [
      "\n",
      "\u001b[A\n",
      "\u001b[A\n",
      "\u001b[A\n",
      "\u001b[A\n",
      "\u001b[A\n",
      "\u001b[A\n",
      "\u001b[A\n",
      "\u001b[A\n",
      "\u001b[A\n",
      "\u001b[A\n",
      "\u001b[A\n",
      "\u001b[A\n",
      "\u001b[A\n",
      "\u001b[A\n",
      "\u001b[A\n",
      "\u001b[A\n",
      "\u001b[A\n",
      "\u001b[A\n",
      "\u001b[A\n",
      "\u001b[A\n",
      "\u001b[A\n",
      "\u001b[A\n",
      "\u001b[A\n",
      "\u001b[A\n",
      "\u001b[A\n",
      "100%|██████████| 1000/1000 [00:02<00:00, 365.24it/s]\n"
     ]
    },
    {
     "name": "stdout",
     "output_type": "stream",
     "text": [
      "iso\n",
      "psc\n",
      "bub\n",
      "pib\n"
     ]
    },
    {
     "name": "stderr",
     "output_type": "stream",
     "text": [
      "\n",
      "\u001b[A\n",
      "\u001b[A\n",
      "\u001b[A\n",
      "\u001b[A\n",
      "\u001b[A\n",
      "\u001b[A\n",
      "\u001b[A\n",
      "\u001b[A\n",
      "\u001b[A\n",
      "\u001b[A\n",
      "\u001b[A\n",
      "\u001b[A\n",
      "\u001b[A\n",
      "\u001b[A\n",
      "\u001b[A\n",
      "\u001b[A\n",
      "\u001b[A\n",
      "\u001b[A\n",
      "\u001b[A\n",
      "\u001b[A\n",
      "\u001b[A\n",
      "\u001b[A\n",
      "\u001b[A\n",
      "\u001b[A\n",
      "\u001b[A\n",
      "100%|██████████| 1000/1000 [00:02<00:00, 369.46it/s]\n"
     ]
    },
    {
     "name": "stdout",
     "output_type": "stream",
     "text": [
      "ics\n"
     ]
    },
    {
     "name": "stderr",
     "output_type": "stream",
     "text": [
      "\n",
      "\u001b[A\n",
      "\u001b[A\n",
      "\u001b[A\n",
      "\u001b[A\n",
      "\u001b[A\n",
      "\u001b[A\n",
      "\u001b[A\n",
      "\u001b[A\n",
      "\u001b[A\n",
      "\u001b[A\n",
      "\u001b[A\n",
      "\u001b[A\n",
      "\u001b[A\n",
      "\u001b[A\n",
      "\u001b[A\n",
      "\u001b[A\n",
      "\u001b[A\n",
      "\u001b[A\n",
      "\u001b[A\n",
      "\u001b[A\n",
      "\u001b[A\n",
      "\u001b[A\n",
      "\u001b[A\n",
      "\u001b[A\n",
      "\u001b[A\n",
      "\u001b[A\n",
      "100%|██████████| 1000/1000 [00:02<00:00, 359.47it/s]\n"
     ]
    },
    {
     "name": "stdout",
     "output_type": "stream",
     "text": [
      "iso\n",
      "psc\n",
      "bub\n",
      "pib\n"
     ]
    },
    {
     "name": "stderr",
     "output_type": "stream",
     "text": [
      "\n",
      "\u001b[A\n",
      "\u001b[A\n",
      "\u001b[A\n",
      "\u001b[A\n",
      "\u001b[A\n",
      "\u001b[A\n",
      "\u001b[A\n",
      "\u001b[A\n",
      "\u001b[A\n",
      "\u001b[A\n",
      "\u001b[A\n",
      "\u001b[A\n",
      "\u001b[A\n",
      "\u001b[A\n",
      "\u001b[A\n",
      "\u001b[A\n",
      "\u001b[A\n",
      "\u001b[A\n",
      "\u001b[A\n",
      "\u001b[A\n",
      "\u001b[A\n",
      "\u001b[A\n",
      "\u001b[A\n",
      "\u001b[A\n",
      "100%|██████████| 1000/1000 [00:02<00:00, 379.04it/s]\n"
     ]
    },
    {
     "name": "stdout",
     "output_type": "stream",
     "text": [
      "ics\n"
     ]
    },
    {
     "name": "stderr",
     "output_type": "stream",
     "text": [
      "\n",
      "\u001b[A\n",
      "\u001b[A\n",
      "\u001b[A\n",
      "\u001b[A\n",
      "\u001b[A\n",
      "\u001b[A\n",
      "\u001b[A\n",
      "\u001b[A\n",
      "\u001b[A\n",
      "\u001b[A\n",
      "\u001b[A\n",
      "\u001b[A\n",
      "\u001b[A\n",
      "\u001b[A\n",
      "\u001b[A\n",
      "\u001b[A\n",
      "\u001b[A\n",
      "\u001b[A\n",
      "\u001b[A\n",
      "\u001b[A\n",
      "\u001b[A\n",
      "\u001b[A\n",
      "\u001b[A\n",
      "100%|██████████| 1000/1000 [00:02<00:00, 396.79it/s]\n"
     ]
    },
    {
     "name": "stdout",
     "output_type": "stream",
     "text": [
      "iso\n",
      "psc\n",
      "bub\n",
      "pib\n"
     ]
    },
    {
     "name": "stderr",
     "output_type": "stream",
     "text": [
      "\n",
      "\u001b[A\n",
      "\u001b[A\n",
      "\u001b[A\n",
      "\u001b[A\n",
      "\u001b[A\n",
      "\u001b[A\n",
      "\u001b[A\n",
      "\u001b[A\n",
      "\u001b[A\n",
      "\u001b[A\n",
      "\u001b[A\n",
      "\u001b[A\n",
      "\u001b[A\n",
      "\u001b[A\n",
      "\u001b[A\n",
      "\u001b[A\n",
      "\u001b[A\n",
      "\u001b[A\n",
      "\u001b[A\n",
      "\u001b[A\n",
      "100%|██████████| 1000/1000 [00:02<00:00, 440.85it/s]\n"
     ]
    },
    {
     "name": "stdout",
     "output_type": "stream",
     "text": [
      "ics\n"
     ]
    },
    {
     "name": "stderr",
     "output_type": "stream",
     "text": [
      "\n",
      "\u001b[A\n",
      "\u001b[A\n",
      "\u001b[A\n",
      "\u001b[A\n",
      "\u001b[A\n",
      "\u001b[A\n",
      "\u001b[A\n",
      "\u001b[A\n",
      "\u001b[A\n",
      "\u001b[A\n",
      "\u001b[A\n",
      "\u001b[A\n",
      "\u001b[A\n",
      "\u001b[A\n",
      "\u001b[A\n",
      "\u001b[A\n",
      "\u001b[A\n",
      "\u001b[A\n",
      "\u001b[A\n",
      "\u001b[A\n",
      "\u001b[A\n",
      "\u001b[A\n",
      "\u001b[A\n",
      "\u001b[A\n",
      "\u001b[A\n",
      "\u001b[A\n",
      "100%|██████████| 1000/1000 [00:02<00:00, 360.42it/s]\n"
     ]
    },
    {
     "name": "stdout",
     "output_type": "stream",
     "text": [
      "iso\n",
      "psc\n",
      "bub\n",
      "pib\n"
     ]
    },
    {
     "name": "stderr",
     "output_type": "stream",
     "text": [
      "\n",
      "\u001b[A\n",
      "\u001b[A\n",
      "\u001b[A\n",
      "\u001b[A\n",
      "\u001b[A\n",
      "\u001b[A\n",
      "\u001b[A\n",
      "\u001b[A\n",
      "\u001b[A\n",
      "\u001b[A\n",
      "\u001b[A\n",
      "\u001b[A\n",
      "\u001b[A\n",
      "\u001b[A\n",
      "\u001b[A\n",
      "\u001b[A\n",
      "\u001b[A\n",
      "\u001b[A\n",
      "\u001b[A\n",
      "\u001b[A\n",
      "\u001b[A\n",
      "\u001b[A\n",
      "\u001b[A\n",
      "\u001b[A\n",
      "\u001b[A\n",
      "\u001b[A\n",
      "\u001b[A\n",
      "\u001b[A\n",
      "100%|██████████| 1000/1000 [00:03<00:00, 325.39it/s]\n"
     ]
    },
    {
     "name": "stdout",
     "output_type": "stream",
     "text": [
      "ics\n"
     ]
    },
    {
     "name": "stderr",
     "output_type": "stream",
     "text": [
      "\n",
      "\u001b[A\n",
      "\u001b[A\n",
      "\u001b[A\n",
      "\u001b[A\n",
      "\u001b[A\n",
      "\u001b[A\n",
      "\u001b[A\n",
      "\u001b[A\n",
      "\u001b[A\n",
      "\u001b[A\n",
      "\u001b[A\n",
      "\u001b[A\n",
      "\u001b[A\n",
      "\u001b[A\n",
      "\u001b[A\n",
      "\u001b[A\n",
      "\u001b[A\n",
      "\u001b[A\n",
      "\u001b[A\n",
      "\u001b[A\n",
      "\u001b[A\n",
      "\u001b[A\n",
      "\u001b[A\n",
      "\u001b[A\n",
      "\u001b[A\n",
      "100%|██████████| 1000/1000 [00:02<00:00, 366.20it/s]\n"
     ]
    },
    {
     "name": "stdout",
     "output_type": "stream",
     "text": [
      "iso\n",
      "psc\n",
      "bub\n",
      "pib\n"
     ]
    },
    {
     "name": "stderr",
     "output_type": "stream",
     "text": [
      "\n",
      "\u001b[A\n",
      "\u001b[A\n",
      "\u001b[A\n",
      "\u001b[A\n",
      "\u001b[A\n",
      "\u001b[A\n",
      "\u001b[A\n",
      "\u001b[A\n",
      "\u001b[A\n",
      "\u001b[A\n",
      "\u001b[A\n",
      "\u001b[A\n",
      "\u001b[A\n",
      "\u001b[A\n",
      "\u001b[A\n",
      "\u001b[A\n",
      "\u001b[A\n",
      "\u001b[A\n",
      "\u001b[A\n",
      "\u001b[A\n",
      "\u001b[A\n",
      "\u001b[A\n",
      "\u001b[A\n",
      "\u001b[A\n",
      "100%|██████████| 1000/1000 [00:02<00:00, 385.69it/s]\n"
     ]
    },
    {
     "name": "stdout",
     "output_type": "stream",
     "text": [
      "ics\n"
     ]
    },
    {
     "name": "stderr",
     "output_type": "stream",
     "text": [
      "\n",
      "\u001b[A\n",
      "\u001b[A\n",
      "\u001b[A\n",
      "\u001b[A\n",
      "\u001b[A\n",
      "\u001b[A\n",
      "\u001b[A\n",
      "\u001b[A\n",
      "\u001b[A\n",
      "\u001b[A\n",
      "\u001b[A\n",
      "\u001b[A\n",
      "\u001b[A\n",
      "\u001b[A\n",
      "\u001b[A\n",
      "\u001b[A\n",
      "\u001b[A\n",
      "\u001b[A\n",
      "\u001b[A\n",
      "\u001b[A\n",
      "\u001b[A\n",
      "\u001b[A\n",
      "\u001b[A\n",
      "\u001b[A\n",
      "100%|██████████| 1000/1000 [00:02<00:00, 381.43it/s]\n"
     ]
    },
    {
     "name": "stdout",
     "output_type": "stream",
     "text": [
      "iso\n",
      "psc\n",
      "bub\n",
      "pib\n"
     ]
    },
    {
     "name": "stderr",
     "output_type": "stream",
     "text": [
      "\n",
      "\u001b[A\n",
      "\u001b[A\n",
      "\u001b[A\n",
      "\u001b[A\n",
      "\u001b[A\n",
      "\u001b[A\n",
      "\u001b[A\n",
      "\u001b[A\n",
      "\u001b[A\n",
      "\u001b[A\n",
      "\u001b[A\n",
      "\u001b[A\n",
      "\u001b[A\n",
      "\u001b[A\n",
      "\u001b[A\n",
      "\u001b[A\n",
      "\u001b[A\n",
      "\u001b[A\n",
      "\u001b[A\n",
      "\u001b[A\n",
      "\u001b[A\n",
      "\u001b[A\n",
      "\u001b[A\n",
      "\u001b[A\n",
      "100%|██████████| 1000/1000 [00:02<00:00, 379.86it/s]\n"
     ]
    },
    {
     "name": "stdout",
     "output_type": "stream",
     "text": [
      "ics\n"
     ]
    },
    {
     "name": "stderr",
     "output_type": "stream",
     "text": [
      "\n",
      "\u001b[A\n",
      "\u001b[A\n",
      "\u001b[A\n",
      "\u001b[A\n",
      "\u001b[A\n",
      "\u001b[A\n",
      "\u001b[A\n",
      "\u001b[A\n",
      "\u001b[A\n",
      "\u001b[A\n",
      "\u001b[A\n",
      "\u001b[A\n",
      "\u001b[A\n",
      "\u001b[A\n",
      "\u001b[A\n",
      "\u001b[A\n",
      "\u001b[A\n",
      "\u001b[A\n",
      "\u001b[A\n",
      "\u001b[A\n",
      "\u001b[A\n",
      "\u001b[A\n",
      "\u001b[A\n",
      "\u001b[A\n",
      "\u001b[A\n",
      "\u001b[A\n",
      "100%|██████████| 1000/1000 [00:02<00:00, 351.87it/s]\n"
     ]
    },
    {
     "name": "stdout",
     "output_type": "stream",
     "text": [
      "iso\n",
      "psc\n",
      "bub\n",
      "pib\n"
     ]
    },
    {
     "name": "stderr",
     "output_type": "stream",
     "text": [
      "\n",
      "\u001b[A\n",
      "\u001b[A\n",
      "\u001b[A\n",
      "\u001b[A\n",
      "\u001b[A\n",
      "\u001b[A\n",
      "\u001b[A\n",
      "\u001b[A\n",
      "\u001b[A\n",
      "\u001b[A\n",
      "\u001b[A\n",
      "\u001b[A\n",
      "\u001b[A\n",
      "\u001b[A\n",
      "\u001b[A\n",
      "\u001b[A\n",
      "\u001b[A\n",
      "\u001b[A\n",
      "\u001b[A\n",
      "\u001b[A\n",
      "\u001b[A\n",
      "\u001b[A\n",
      "\u001b[A\n",
      "\u001b[A\n",
      "100%|██████████| 1000/1000 [00:02<00:00, 386.56it/s]\n"
     ]
    },
    {
     "name": "stdout",
     "output_type": "stream",
     "text": [
      "ics\n"
     ]
    },
    {
     "name": "stderr",
     "output_type": "stream",
     "text": [
      "\n",
      "\u001b[A\n",
      "\u001b[A\n",
      "\u001b[A\n",
      "\u001b[A\n",
      "\u001b[A\n",
      "\u001b[A\n",
      "\u001b[A\n",
      "\u001b[A\n",
      "\u001b[A\n",
      "\u001b[A\n",
      "\u001b[A\n",
      "\u001b[A\n",
      "\u001b[A\n",
      "\u001b[A\n",
      "\u001b[A\n",
      "\u001b[A\n",
      "\u001b[A\n",
      "\u001b[A\n",
      "\u001b[A\n",
      "\u001b[A\n",
      "\u001b[A\n",
      "\u001b[A\n",
      "\u001b[A\n",
      "100%|██████████| 1000/1000 [00:02<00:00, 406.48it/s]\n"
     ]
    },
    {
     "name": "stdout",
     "output_type": "stream",
     "text": [
      "iso\n",
      "psc\n",
      "bub\n",
      "pib\n"
     ]
    },
    {
     "name": "stderr",
     "output_type": "stream",
     "text": [
      "\n",
      "\u001b[A\n",
      "\u001b[A\n",
      "\u001b[A\n",
      "\u001b[A\n",
      "\u001b[A\n",
      "\u001b[A\n",
      "\u001b[A\n",
      "\u001b[A\n",
      "\u001b[A\n",
      "\u001b[A\n",
      "\u001b[A\n",
      "\u001b[A\n",
      "\u001b[A\n",
      "\u001b[A\n",
      "\u001b[A\n",
      "\u001b[A\n",
      "\u001b[A\n",
      "\u001b[A\n",
      "\u001b[A\n",
      "\u001b[A\n",
      "\u001b[A\n",
      "\u001b[A\n",
      "\u001b[A\n",
      "\u001b[A\n",
      "100%|██████████| 1000/1000 [00:02<00:00, 376.09it/s]\n"
     ]
    },
    {
     "name": "stdout",
     "output_type": "stream",
     "text": [
      "ics\n"
     ]
    },
    {
     "name": "stderr",
     "output_type": "stream",
     "text": [
      "\u001b[A\n",
      "\u001b[A\n",
      "\u001b[A\n",
      "\u001b[A\n",
      "\u001b[A\n",
      "\u001b[A\n",
      "\u001b[A\n",
      "\u001b[A\n",
      "\u001b[A\n",
      "\u001b[A\n",
      "\u001b[A\n",
      "\u001b[A\n",
      "\u001b[A\n",
      "\u001b[A\n",
      "\u001b[A\n",
      "\u001b[A\n",
      "\u001b[A\n",
      "\u001b[A\n",
      "\u001b[A\n",
      "\u001b[A\n",
      "\u001b[A\n",
      "\u001b[A\n",
      "\u001b[A\n",
      "\u001b[A\n",
      "\u001b[A\n",
      "\u001b[A\n",
      "100%|██████████| 1000/1000 [00:02<00:00, 354.29it/s]\n",
      "sim_seeds: 100%|██████████| 10/10 [00:56<00:00,  5.68s/it]\n",
      "svi_seeds: 100%|██████████| 1/1 [00:56<00:00, 56.79s/it]\n"
     ]
    }
   ],
   "source": [
    "temp_names_sim = rig_temp_sim + hyb_temp_sim + var_temp_sim # imported from settings file\n",
    "\n",
    "temp_sample_dict_svi_sim = []\n",
    "\n",
    "# NOTE: Indices now don't track the IDs. So, you need to keep track of the indices\n",
    "Ncs = len(svi_seeds)\n",
    "Ncr = len(sim_seeds)\n",
    "for ns in tqdm(range(Ncs), desc = 'svi_seeds'):\n",
    "    temp_sample_dict_sim = []\n",
    "    for nr in tqdm(range(Ncr), desc = 'sim_seeds'):\n",
    "        samples = samples_svi_sim[ns][nr]\n",
    "        gp_samples = gp_samples_svi_sim[ns][nr]\n",
    "        temp_sample_dict = ef.generate_temp_sample_maps(samples, ebinmodel, gp_samples = gp_samples, custom_num=1000, nfw_gamma=nfw_gamma)\n",
    "        temp_sample_dict_sim.append(temp_sample_dict)\n",
    "    temp_sample_dict_svi_sim.append(temp_sample_dict_sim)"
   ]
  },
  {
   "cell_type": "code",
   "execution_count": 9,
   "metadata": {},
   "outputs": [
    {
     "name": "stderr",
     "output_type": "stream",
     "text": [
      "svi_seeds:   0%|          | 0/1 [00:00<?, ?it/s]"
     ]
    },
    {
     "name": "stderr",
     "output_type": "stream",
     "text": [
      "sim_seeds: 100%|██████████| 10/10 [00:01<00:00,  7.55it/s]\n",
      "svi_seeds: 100%|██████████| 1/1 [00:01<00:00,  1.33s/it]\n"
     ]
    },
    {
     "data": {
      "image/png": "[encoded data removed]",
      "text/plain": [
       "<Figure size 1440x720 with 1 Axes>"
      ]
     },
     "metadata": {},
     "output_type": "display_data"
    }
   ],
   "source": [
    "fig = plt.figure(figsize=(12, 6), dpi= 120)\n",
    "ax = fig.add_subplot(111)\n",
    "\n",
    "bins = np.linspace(1.4,4.4,100)\n",
    "alpha = 0.2\n",
    "histtype = 'stepfilled'\n",
    "\n",
    "all_temp_names = ['iso', 'psc', 'bub', 'pib', 'ics', 'blg', 'gp', 'nfw', 'dsk']\n",
    "ccodes = ['C0', 'C1', 'C2', 'C3', 'C4', 'C5', 'C5', 'C6', 'C7']\n",
    "names = list(temp_sample_dict.keys())\n",
    "ordered_names = [name for name in all_temp_names if name in names]\n",
    "\n",
    "Ncs = len(svi_seeds)\n",
    "Ncr = len(sim_seeds)\n",
    "c = 0\n",
    "for ns in tqdm(range(Ncs), desc = 'svi_seeds'):\n",
    "    for nr in tqdm(range(Ncr), desc = 'sim_seeds'):\n",
    "        temp_sample_dict = temp_sample_dict_svi_sim[ns][nr]\n",
    "        for k in range(len(ordered_names)):\n",
    "            name = ordered_names[k]\n",
    "            idx = all_temp_names.index(name)\n",
    "            ccode = ccodes[idx]\n",
    "            # if name == 'gp':\n",
    "            #     temp_sum = jnp.exp(temp_sample_dict[name]).sum(axis = 1) # sum over spatial bins\n",
    "            #     ax.hist(np.log10(temp_sum), bins = bins, alpha = 0.75, label = name, density = True, histtype = 'step', color = ccode)\n",
    "            # else:\n",
    "            temp_sum = temp_sample_dict[name].sum(axis = 1) # sum over spatial bins\n",
    "            if c == 0:\n",
    "                ax.hist(np.log10(temp_sum), bins = bins, alpha = alpha, label = name, density = True, histtype = histtype, color = ccode)\n",
    "            else:\n",
    "                ax.hist(np.log10(temp_sum), bins = bins, alpha = alpha, density = True, histtype = histtype, color = ccode)\n",
    "\n",
    "        if temp_dict is not None:\n",
    "            names_sim = temp_names_sim # this piece is provided by the \"settings\" file since we only save a dictionary with all the fit parameters\n",
    "            ordered_names_sim = [name for name in all_temp_names if name in names_sim]\n",
    "            for k in range(len(ordered_names_sim)):\n",
    "                name = ordered_names_sim[k]\n",
    "                idx = all_temp_names.index(name)\n",
    "                ccode = ccodes[idx]\n",
    "                if ordered_names_sim[k] == 'nfw':\n",
    "                    continue\n",
    "                elif ordered_names_sim[k] == 'blg':\n",
    "                    temp_sum_sim = temp_dict['blg'].sum(axis = 0) + temp_dict['nfw'].sum(axis = 0)\n",
    "                    ax.axvline(np.log10(temp_sum_sim), linestyle='--', c = ccode)\n",
    "                else:\n",
    "                    temp_sum_sim = temp_dict[name].sum(axis = 0)\n",
    "                    ax.axvline(np.log10(temp_sum_sim), linestyle='--', c = ccode)\n",
    "        c += 1\n",
    "        \n",
    "        ax.legend()\n",
    "        ax.set_xlabel(r'$\\log_{10}(\\mathrm{counts})$')\n",
    "        ax.set_ylabel(r'$\\mathrm{density}$')\n",
    "        ax.set_title(r'$\\mathrm{Counts\\ in\\ Unmasked\\ Region}$')"
   ]
  },
  {
   "cell_type": "code",
   "execution_count": 12,
   "metadata": {},
   "outputs": [
    {
     "name": "stdout",
     "output_type": "stream",
     "text": [
      "../data/synthetic_data/canon_g1_pnfw/pseudodata/sim_iso_psc_bub_pib_ics_blg_nfw/pois_draw_9.npy\n"
     ]
    }
   ],
   "source": [
    "sim_data_dir = ebinmodel.sim_data_dir \n",
    "sim_file_name = ef.make_pseudodata_file(temp_names_sim, sim_data_dir, create_dir = False, return_name=True, sim_seed=sim_seed, \n",
    "                                                is_custom_blg=is_custom_blg)\n",
    "print(sim_file_name)"
   ]
  },
  {
   "cell_type": "code",
   "execution_count": 18,
   "metadata": {},
   "outputs": [
    {
     "name": "stdout",
     "output_type": "stream",
     "text": [
      "dict_keys(['gp', 'iso', 'psc', 'bub', 'pib', 'ics'])\n"
     ]
    }
   ],
   "source": [
    "print(temp_dict.keys())"
   ]
  },
  {
   "cell_type": "code",
   "execution_count": null,
   "metadata": {},
   "outputs": [],
   "source": []
  },
  {
   "cell_type": "code",
   "execution_count": 16,
   "metadata": {},
   "outputs": [
    {
     "name": "stderr",
     "output_type": "stream",
     "text": [
      "svi_seeds:   0%|          | 0/1 [00:00<?, ?it/s]"
     ]
    },
    {
     "name": "stderr",
     "output_type": "stream",
     "text": [
      "sim_seeds: 100%|██████████| 10/10 [00:02<00:00,  3.79it/s][A\n",
      "svi_seeds: 100%|██████████| 1/1 [00:02<00:00,  2.64s/it]\n"
     ]
    }
   ],
   "source": [
    "from likelihoods.pll_jax import log_like_poisson\n",
    "\n",
    "mask = ebinmodel.mask_roi_arr[ebin]\n",
    "data = ebinmodel.counts[ebin][~mask]\n",
    "N = data.shape[0]\n",
    "\n",
    "\n",
    "for ns in tqdm(range(Ncs), desc = 'svi_seeds'):\n",
    "    for nr in tqdm(range(Ncr), desc = 'sim_seeds'):\n",
    "        sim_seed = sim_seeds[nr]\n",
    "        sim_data_dir = ebinmodel.sim_data_dir \n",
    "        sim_file_name = ef.make_pseudodata_file(temp_names_sim, sim_data_dir, create_dir = False, return_name=True, sim_seed=sim_seed, \n",
    "                                                       is_custom_blg=is_custom_blg)\n",
    "        data = jnp.array(np.load(sim_file_name), dtype = jnp.float32)[ebin][~mask]\n",
    "\n",
    "        temp_sample_dict = temp_sample_dict_svi_sim[ns][nr]\n",
    "        temp_dict = temp_sample_dict_svi_sim[ns][nr]\n",
    "\n",
    "        temp_sum_sim = jnp.zeros((1,))\n",
    "        temp_sim = jnp.zeros((1000,N))\n",
    "\n",
    "        for name in list(temp_names_sim):\n",
    "            temp_sum_sim += temp_dict[name]\n",
    "\n",
    "        for name in list(temp_sample_dict.keys()):\n",
    "            temp_sim += temp_sample_dict[name]\n",
    "        \n",
    "        ll_true = log_like_poisson(mu = temp_sum_sim, data = data)\n",
    "        ll_sum_true = ll_true.sum() \n",
    "\n",
    "        ll_samples = log_like_poisson(mu = temp_sim, data = data)\n",
    "        ll_sum_samples = ll_samples.sum(axis = 1)\n",
    "\n",
    "        plt.hist(ll_sum_samples, bins = 30, density = True, alpha = 0.1, label = 'samples')\n",
    "        plt.axvline(ll_sum_true, color = 'k', label = 'true')\n",
    "        plt.legend()\n",
    "        plt.xlabel('log likelihood')\n",
    "        plt.ylabel('density')\n",
    "        plt.show()"
   ]
  },
  {
   "cell_type": "code",
   "execution_count": 10,
   "metadata": {},
   "outputs": [
    {
     "name": "stderr",
     "output_type": "stream",
     "text": [
      "sim_seeds: 100%|██████████| 10/10 [00:00<00:00, 198.67it/s]\n",
      "svi_seeds: 100%|██████████| 1/1 [00:00<00:00, 19.12it/s]\n"
     ]
    },
    {
     "data": {
      "image/png": "[encoded data removed]",
      "text/plain": [
       "<Figure size 720x480 with 1 Axes>"
      ]
     },
     "metadata": {},
     "output_type": "display_data"
    }
   ],
   "source": [
    "for ns in tqdm(range(Ncs), desc = 'svi_seeds'):\n",
    "    for nr in tqdm(range(Ncr), desc = 'sim_seeds'):\n",
    "        svi_results = svi_results_svi_sim[ns][nr]\n",
    "        plt.plot(np.log10(svi_results.losses), alpha = 0.2)\n",
    "        plt.ylim([3.8,4.2])"
   ]
  },
  {
   "cell_type": "code",
   "execution_count": 11,
   "metadata": {},
   "outputs": [
    {
     "name": "stderr",
     "output_type": "stream",
     "text": [
      "sim_seeds: 100%|██████████| 10/10 [00:00<00:00, 10405.12it/s]\n",
      "svi_seeds: 100%|██████████| 1/1 [00:00<00:00, 283.30it/s]"
     ]
    },
    {
     "name": "stdout",
     "output_type": "stream",
     "text": [
      "7.7738705\n",
      "8.4822235\n",
      "9.068067\n",
      "8.536263\n",
      "9.985912\n",
      "7.792388\n",
      "7.557901\n",
      "7.350017\n",
      "8.433139\n",
      "6.423786\n"
     ]
    },
    {
     "name": "stderr",
     "output_type": "stream",
     "text": [
      "\n"
     ]
    }
   ],
   "source": [
    "for ns in tqdm(range(Ncs), desc = 'svi_seeds'):\n",
    "    for nr in tqdm(range(Ncr), desc = 'sim_seeds'):\n",
    "        svi_results = svi_results_svi_sim[ns][nr]\n",
    "        print(svi_results.params['scale'])"
   ]
  },
  {
   "cell_type": "code",
   "execution_count": 12,
   "metadata": {},
   "outputs": [
    {
     "name": "stderr",
     "output_type": "stream",
     "text": [
      "sim_seeds: 100%|██████████| 10/10 [00:00<00:00, 208.23it/s]\n",
      "svi_seeds: 100%|██████████| 1/1 [00:00<00:00, 18.96it/s]\n"
     ]
    }
   ],
   "source": [
    "sum_gp_samples_svi_sim = []\n",
    "for ns in tqdm(svi_seeds, desc = 'svi_seeds'):\n",
    "    sum_gp_samples_sim = []\n",
    "    for nr in tqdm(sim_seeds, desc = 'sim_seeds'):\n",
    "        sum_gp_samples_sim.append(jnp.exp(gp_samples_svi_sim[ns][nr]).sum(axis = 1))\n",
    "    sum_gp_samples_svi_sim.append(sum_gp_samples_sim)"
   ]
  },
  {
   "cell_type": "code",
   "execution_count": 13,
   "metadata": {},
   "outputs": [
    {
     "name": "stdout",
     "output_type": "stream",
     "text": [
      "[2082.1792 1643.0005 1546.3923 1805.0967 1816.4827 2150.3032 1768.5325\n",
      " 1795.3352 1816.3582 2175.5532 2148.4355 2055.3965 2563.966  1855.696\n",
      " 1619.1985 1754.662  1523.0856 1598.0437 1934.212  1715.7561 2168.8616\n",
      " 1708.4941 1677.2158 2805.8892 1914.6111 2066.241  1759.1792 2041.6976\n",
      " 1591.1128 2101.79   1642.5458 1602.166  1352.1042 1881.8562 2036.7361\n",
      " 1433.2811 2344.259  2099.5005 2165.3645 1888.5431 1837.6143 1799.4429\n",
      " 2075.4111 1727.6511 1686.1692 1702.656  1575.1165 1536.6902 1497.1812\n",
      " 1869.9579 1842.0698 2335.5623 1971.5011 1848.5427 2216.6365 1611.0728\n",
      " 1775.2502 2087.9424 1923.9396 1583.4326 1908.7094 2203.6963 2008.4163\n",
      " 1766.4396 1813.73   2246.1653 1472.2533 1620.2349 1707.9888 2153.5557\n",
      " 1979.074  1562.0193 1947.4678 1742.528  2283.7925 2090.8564 1530.0199\n",
      " 2271.0981 1688.3542 2071.2642 1690.7329 1679.0045 1410.6511 1902.5507\n",
      " 1315.1704 1650.6096 2357.203  1804.144  2453.3025 1702.2996 1945.7756\n",
      " 2062.0315 1904.1992 2136.306  1719.2875 2074.5474 1687.7273 2452.2747\n",
      " 1976.156  1939.419  2080.873  2312.232  1599.767  2187.974  1981.5863\n",
      " 2054.8086 1895.9375 1946.0011 1754.0321 1705.0415 2010.4144 2095.6284\n",
      " 2075.8462 2069.0054 2190.1433 2087.0989 2258.9922 2063.802  1959.9707\n",
      " 1714.0288 1918.1399 1397.1638 2185.4639 2497.9749 1581.3599 1814.281\n",
      " 1619.7572 1948.3096 2437.913  1493.7473 1754.3237 1350.2563 1567.1912\n",
      " 2594.754  2051.54   1839.4202 1794.3146 1897.9133 2094.89   1708.1497\n",
      " 1592.5962 1847.615  1557.0803 1774.4404 1533.5354 2097.4746 1693.3138\n",
      " 1894.0233 1524.5225 1268.7089 2302.6284 1670.9277 1774.4473 1587.1211\n",
      " 1670.1603 2163.2363 1815.2417 1689.5417 1677.883  1591.2982 1764.9602\n",
      " 1770.092  1597.7922 1942.115  1571.0603 1563.7122 2168.8403 2218.2878\n",
      " 1811.0513 1716.754  2096.0625 1991.1317 1639.9331 2264.9014 1929.3137\n",
      " 1725.833  2084.5852 1547.8871 2127.827  2062.636  2013.7898 1603.2485\n",
      " 2087.4229 1480.9014 2346.0566 1549.5054 2061.083  2061.393  1923.4868\n",
      " 2455.1758 1466.6504 2315.4644 1649.2268 1905.0198 1638.5928 1706.553\n",
      " 1715.1213 2008.9604 1413.9614 1978.3224 1696.3849 1667.7192 1822.3029\n",
      " 1837.336  1915.4247 1455.5701 2530.9343 1992.5869 1998.3887 1965.5261\n",
      " 1489.6113 1728.4547 2161.8242 1461.9188 2079.0923 2281.0835 1522.4382\n",
      " 1675.1648 2354.2832 2130.4443 1982.8022 1498.1617 2158.909  1507.5005\n",
      " 1785.967  1522.2684 2258.6016 1728.3035 1835.0303 2663.0935 1849.2784\n",
      " 2109.9927 2096.9019 1699.1599 1262.4556 1998.4044 1855.9786 2042.771\n",
      " 1920.2784 1582.947  1886.7253 1618.0092 2441.735  1956.9241 1732.8986\n",
      " 2023.7443 2485.1907 1490.2438 2280.893  1806.5371 1722.7817 2437.2778\n",
      " 1885.2916 2424.0112 2047.959  3025.7612 1996.472  2005.0685 1508.9567\n",
      " 1852.2118 1457.9244 1865.9758 2016.0188 1903.8239 2151.1748 1985.4451\n",
      " 2240.1855 1601.5963 1815.4255 1729.398  2206.0994 1912.2192 1862.5466\n",
      " 1444.9199 1817.2166 2314.8684 1693.9596 1984.8896 2065.8127 2023.5394\n",
      " 1800.0027 1937.7874 1870.5404 1845.0471 2463.0498 1675.2681 1954.6678\n",
      " 1614.0149 1559.9027 1457.5974 2440.9395 2347.2256 1596.5814 1622.2974\n",
      " 1699.01   2604.4766 1559.1506 1421.4685 2475.2324 1783.8807 1954.49\n",
      " 1638.5758 1831.9542 1766.4685 1809.9619 1670.2957 2021.5938 1744.221\n",
      " 1890.9476 1672.4609 1635.5858 1903.4495 2164.7705 1978.8252 1681.1791\n",
      " 1809.8481 1886.7766 1925.0107 1745.0094 1869.2852 2159.5127 1817.8972\n",
      " 1747.9086 1545.8995 2056.0664 1380.1276 2135.8784 1614.2987 1844.3372\n",
      " 1831.7839 1876.6333 1808.1692 1467.7449 1926.237  2438.1619 1651.5386\n",
      " 1693.6908 1790.2379 2238.9663 1207.4381 1419.0088 1456.683  1794.6316\n",
      " 2133.276  2009.3412 1629.4612 2360.4985 1596.8529 1841.2311 1960.8733\n",
      " 1758.6636 1946.426  1992.0076 2129.1177 2236.1284 1745.8522 2036.1913\n",
      " 1788.1166 1541.5627 1668.7303 1682.1888 1821.6667 2101.56   1970.6748\n",
      " 1884.5452 2179.216  1761.0929 1995.2721 2460.1943 2014.7083 2193.7146\n",
      " 1618.9346 1805.5345 2025.4213 1627.1398 1838.5889 1678.8992 1924.4775\n",
      " 1905.2853 1962.0599 1702.346  2114.3606 2529.7356 1512.2922 2501.6074\n",
      " 1883.9178 1944.3147 1181.9456 1936.2644 1607.5889 1654.0289 1776.5039\n",
      " 2074.457  2501.461  1826.3726 1396.2998 2033.5552 1677.5308 1901.3337\n",
      " 2314.2202 2154.1123 1394.9114 1465.8525 1588.4521 1802.8018 1784.4808\n",
      " 1868.9769 2266.3516 1887.2639 2022.0986 1789.9202 1779.219  1766.4531\n",
      " 1699.5706 1790.0477 1536.1874 2124.6191 1746.8042 1787.4106 2012.3229\n",
      " 1917.0518 1745.9535 1455.091  1964.2151 2125.8013 2021.4979 1825.957\n",
      " 1309.6685 2308.3364 2535.7424 1950.0729 2295.1104 1739.5537 1464.2776\n",
      " 2628.663  1825.1274 1852.2494 1960.0349 1413.4785 1933.6553 1706.0085\n",
      " 2046.9089 1968.4978 1558.594  1871.9177 2280.669  2090.9495 2034.6321\n",
      " 1870.1177 1580.2649 1885.6864 2322.9165 1973.4458 1415.4026 1652.165\n",
      " 1980.427  1760.7856 2061.847  1983.2981 1978.0681 1846.889  1631.9869\n",
      " 2015.4282 2087.9265 2082.5198 2726.4746 1588.811  2164.7776 1829.4623\n",
      " 1498.6042 1739.7837 1493.9866 1405.2793 1923.2324 2065.3152 2040.5929\n",
      " 1873.1384 2063.4119 1896.7837 1967.1152 1697.0939 1772.6611 1829.4261\n",
      " 2205.6292 1392.9048 1826.198  1868.8987 1829.5763 2251.522  2036.3225\n",
      " 1459.1699 1872.5477 1642.5817 2255.0693 1995.6855 1561.6941 1457.4583\n",
      " 1809.3872 2046.5554 2149.165  1538.9752 1773.8176 2116.108  1976.9331\n",
      " 1791.6636 2161.8716 2369.9956 1792.8958 2235.4316 1632.5586 1795.7927\n",
      " 1546.1831 2195.9097 1486.3689 1850.3438 1775.3003 2431.24   1742.3301\n",
      " 2058.9697 1806.3206 1347.1135 1930.079  2067.765  1891.969  2088.9524\n",
      " 1566.4677 1782.325  1639.9044 1873.5315 1780.363  1822.3762 1916.3387\n",
      " 2161.0469 1443.5586 1853.2704 1964.1326 1969.3579 1732.4434 1487.753\n",
      " 1823.6804 1833.1523 2061.548  1958.4785 1555.3445 1882.242  2173.5942\n",
      " 1837.5684 1908.6238 2162.8643 1882.7784 2189.6375 1654.2241 1778.6467\n",
      " 1688.321  1738.7041 1776.5669 2073.6743 1701.3528 1866.2974 2244.8965\n",
      " 1686.1663 2014.287  1940.3821 1796.2864 2187.0762 2275.1748 2054.48\n",
      " 1787.2474 1739.464  1442.5974 1392.3436 1998.3203 1760.239  1565.1355\n",
      " 2029.331  1903.9133 2165.8564 1437.6097 1280.0022 2091.1519 1868.7902\n",
      " 2038.9121 2018.956  2090.7715 1986.9165 1790.7623 1714.6978 1773.0498\n",
      " 1808.0958 1988.4874 1585.4799 1799.2249 1989.7874 1479.4281 1828.227\n",
      " 1406.1592 1993.4412 2290.9373 2003.2909 1936.2029 1946.0968 1790.611\n",
      " 1559.6836 1940.6653 1768.0847 1922.3933 2223.0444 1658.0746 1697.665\n",
      " 2083.7085 1907.0457 1683.0979 1820.5503 1989.2231 1822.4604 1610.433\n",
      " 1791.7805 2151.324  1914.8143 1832.8467 2061.9207 1631.1251 1942.136\n",
      " 1524.012  1563.8955 1874.1045 1997.1328 2322.7878 1879.0431 1787.2358\n",
      " 1847.4852 1660.7478 1543.4265 2184.5032 1894.5156 2388.5354 2122.7593\n",
      " 2017.645  1841.2732 1898.7689 2109.811  1733.0308 1744.4492 1834.4397\n",
      " 1985.1771 1970.0569 2067.816  1581.0193 1817.8806 2184.998  2477.83\n",
      " 2025.0715 1560.7227 1715.9993 2253.0256 1810.7317 1649.8367 1682.6802\n",
      " 1953.3391 1951.426  1875.9622 1849.7589 2044.6008 1465.1971 1718.4548\n",
      " 1783.9749 1661.3596 1615.5635 2430.0654 2274.5967 1598.1647 2287.8066\n",
      " 2229.1328 1767.4697 2474.3372 1795.8428 1409.1456 1877.5347 1887.9156\n",
      " 2176.0962 1333.179  1856.4727 1610.6937 2277.921  2242.0334 1293.0364\n",
      " 1601.053  1615.8381 2234.1191 1941.1228 1406.8086 1896.5452 2053.6382\n",
      " 1731.938  2087.2083 1475.0281 1604.3606 2543.1062 1390.452  1371.3456\n",
      " 2149.4219 1409.8715 2284.9106 1603.7986 1958.2252 1734.0566 1459.5555\n",
      " 1762.86   1839.228  2097.1538 1644.939  1675.3735 2642.106  1629.5028\n",
      " 1808.3568 1652.0566 1601.2339 1765.072  2346.6597 1807.1309 2453.4531\n",
      " 1624.3242 2508.7446 1736.5295 2419.7397 1604.48   1486.9515 1853.8079\n",
      " 2047.4406 1617.493  2002.4121 1764.718  1829.8992 2120.2217 1759.8441\n",
      " 2041.5437 1485.242  1702.4663 1992.6014 1797.4487 2028.9941 1937.5886\n",
      " 1976.6888 1945.7188 1902.6017 1562.3794 2059.0366 1713.0713 2056.671\n",
      " 1704.3667 2122.9016 1582.8145 1947.1483 2026.5808 1597.8691 1924.9424\n",
      " 2214.7837 1490.8005 1748.1094 1814.3774 1645.4492 1582.6378 2195.7268\n",
      " 1498.7517 1896.3951 1747.1329 1987.9137 1748.0889 1850.0898 1693.3607\n",
      " 1473.6985 1982.4558 1907.382  2273.7207 1606.5334 1606.8    1816.5833\n",
      " 1989.7533 2271.2808 1745.0559 1980.8545 2289.1426 1623.5612 1725.232\n",
      " 1683.8287 2283.1538 2298.987  1654.0212 2227.5906 2476.7966 1604.4691\n",
      " 1889.4126 1595.2534 1858.1731 1698.3534 1386.3882 1881.5807 1807.1552\n",
      " 2495.8896 2187.9087 1933.8369 1814.6367 1790.3743 1462.7793 1665.4792\n",
      " 1613.5632 2449.2505 1933.1074 1695.3623 2432.497  2329.1846 1811.7676\n",
      " 2197.016  1628.8748 1881.9297 1923.2983 1994.0804 2040.8936 2674.3296\n",
      " 2005.0172 2060.8535 2367.8647 1947.7438 2354.9343 1940.3895 1875.7205\n",
      " 1668.296  1803.2476 1644.5447 1991.625  1932.7195 2067.5127 1882.3911\n",
      " 1841.689  1940.043  1644.1938 1948.0618 1743.0955 1686.7749 1692.4182\n",
      " 1482.2588 1736.758  2046.8386 1888.3984 1873.3221 1995.402  2173.1885\n",
      " 1909.313  1729.012  1483.8094 2777.7725 2271.2085 1856.8442 1497.2533\n",
      " 2613.2751 2314.736  1164.7316 2057.895  1833.6458 1829.4263 1669.9114\n",
      " 2390.352  1552.19   1963.5366 1745.1904 2100.305  1534.742  2274.056\n",
      " 1672.0685 1757.1978 1696.218  1882.2681 1676.665  1518.9528 1638.6729\n",
      " 1746.198  1926.1799 1845.2312 1479.0044 1872.618  2065.2732 2184.1118\n",
      " 1567.2454 1907.6375 2170.3896 2274.7644 2219.268  2110.1514 1638.5457\n",
      " 1403.4375 1673.2922 1735.6017 1998.5906 1553.6434 1874.3546 1771.7494\n",
      " 1524.9283 1684.6694 1600.9464 1579.7625 1999.7982 2155.0017 1660.8622\n",
      " 1675.4431 1753.3374 1411.8538 2766.7915 2055.8894 1609.3489 2357.3528\n",
      " 1683.3777 1711.426  2230.1287 1773.8673 1902.312  1872.9395 1590.2218\n",
      " 1746.0791 1392.9651 1928.5074 1283.6642 1639.2817 1924.6475 1724.2678\n",
      " 1359.4519 2335.9478 2308.2847 1887.9342 2498.0037 1829.7733 2125.0752\n",
      " 1981.0344 2108.6582 2001.2039 1816.881  1939.673  1859.4539 2135.7793\n",
      " 1536.6504 1689.6396 1997.6218 2574.4856 1575.8247 1611.6405 1986.0133\n",
      " 2228.7139 1917.5005 1952.4243 2369.1162 1986.4366 2123.9204 1996.1829\n",
      " 1704.841  2289.7446 2132.5564 2029.7135 1908.8607 1995.7261 2015.3473\n",
      " 1894.7937 2176.2124 2139.278  1839.4229 1766.0905 1763.6293 2521.3452\n",
      " 1804.6248 1812.3962 1888.2291 1692.9954 2170.684  1334.3402 2413.106\n",
      " 2188.9238 2066.4246 2620.2065 1576.3308 1794.4307 1987.3733 1703.3252\n",
      " 2065.4233 2135.8193 2165.1533 2986.665  1826.6516 2083.8044 1935.6675\n",
      " 1404.3889 1755.0098 2660.037  1866.8821 1636.6218 1632.2712 2422.2698\n",
      " 1718.4219 1567.0946 1425.0801 1930.135  1877.8062 1866.8328]\n"
     ]
    }
   ],
   "source": [
    "print(sum_gp_samples_svi_sim[0][0])"
   ]
  },
  {
   "cell_type": "code",
   "execution_count": 14,
   "metadata": {},
   "outputs": [
    {
     "name": "stderr",
     "output_type": "stream",
     "text": [
      "sim_seeds: 100%|██████████| 10/10 [00:00<00:00, 88.87it/s]\n",
      "svi_seeds: 100%|██████████| 1/1 [00:00<00:00,  8.59it/s]\n"
     ]
    }
   ],
   "source": [
    "for ns in tqdm(svi_seeds, desc = 'svi_seeds'):\n",
    "    for nr in tqdm(sim_seeds, desc = 'sim_seeds'):\n",
    "        if np.isnan(sum_gp_samples_svi_sim[ns][nr][0]):\n",
    "            print(ns, nr)"
   ]
  },
  {
   "cell_type": "code",
   "execution_count": 15,
   "metadata": {},
   "outputs": [
    {
     "name": "stderr",
     "output_type": "stream",
     "text": [
      "svi_seeds:   0%|          | 0/1 [00:00<?, ?it/s]"
     ]
    },
    {
     "name": "stderr",
     "output_type": "stream",
     "text": [
      "/home/edr76/.conda/envs/jax/lib/python3.11/site-packages/numpy/lib/histograms.py:883: RuntimeWarning: divide by zero encountered in divide\n",
      "  return n/db/n.sum(), bin_edges\n",
      "/home/edr76/.conda/envs/jax/lib/python3.11/site-packages/numpy/lib/histograms.py:883: RuntimeWarning: invalid value encountered in divide\n",
      "  return n/db/n.sum(), bin_edges\n",
      "sim_seeds: 100%|██████████| 10/10 [00:02<00:00,  3.91it/s]\n",
      "svi_seeds: 100%|██████████| 1/1 [00:02<00:00,  2.56s/it]\n"
     ]
    },
    {
     "data": {
      "text/plain": [
       "Text(0, 0.5, '$\\\\mathrm{Density}$')"
      ]
     },
     "execution_count": 15,
     "metadata": {},
     "output_type": "execute_result"
    },
    {
     "data": {
      "image/png": "[encoded data removed]",
      "text/plain": [
       "<Figure size 960x720 with 1 Axes>"
      ]
     },
     "metadata": {},
     "output_type": "display_data"
    }
   ],
   "source": [
    "fig = plt.figure(figsize = (8,6))\n",
    "ax = fig.add_subplot(111)\n",
    "for ns in tqdm(svi_seeds, desc = 'svi_seeds'):\n",
    "    for nr in tqdm(sim_seeds, desc = 'sim_seeds'):\n",
    "        if np.isnan(sum_gp_samples_svi_sim[ns][nr][0]):\n",
    "            continue\n",
    "        else:\n",
    "            ax.hist(jnp.log10(sum_gp_samples_svi_sim[ns][nr]), np.linspace(4.4,4.8,40), alpha = 0.05, color = 'C0', density = True)\n",
    "ax.axvline(jnp.log10(temp_dict['blg'].sum()), lw = 1, c = 'b', ls = '--')\n",
    "ax.set_xlabel(r'$\\log_{10}(\\mathrm{GP\\,Sum})$')\n",
    "ax.set_ylabel(r'$\\mathrm{Density}$')"
   ]
  },
  {
   "cell_type": "code",
   "execution_count": 16,
   "metadata": {},
   "outputs": [
    {
     "name": "stderr",
     "output_type": "stream",
     "text": [
      "sim_seeds:   0%|          | 0/10 [00:00<?, ?it/s]\n",
      "svi_seeds:   0%|          | 0/1 [00:00<?, ?it/s]\n"
     ]
    },
    {
     "ename": "IndexError",
     "evalue": "list index out of range",
     "output_type": "error",
     "traceback": [
      "\u001b[0;31m---------------------------------------------------------------------------\u001b[0m",
      "\u001b[0;31mIndexError\u001b[0m                                Traceback (most recent call last)",
      "Cell \u001b[0;32mIn[16], line 8\u001b[0m\n\u001b[1;32m      6\u001b[0m \u001b[38;5;28;01mfor\u001b[39;00m ns \u001b[38;5;129;01min\u001b[39;00m tqdm(c_svi_seeds, desc \u001b[38;5;241m=\u001b[39m \u001b[38;5;124m'\u001b[39m\u001b[38;5;124msvi_seeds\u001b[39m\u001b[38;5;124m'\u001b[39m):\n\u001b[1;32m      7\u001b[0m     \u001b[38;5;28;01mfor\u001b[39;00m nr \u001b[38;5;129;01min\u001b[39;00m tqdm(c_sim_seeds, desc \u001b[38;5;241m=\u001b[39m \u001b[38;5;124m'\u001b[39m\u001b[38;5;124msim_seeds\u001b[39m\u001b[38;5;124m'\u001b[39m):\n\u001b[0;32m----> 8\u001b[0m         \u001b[38;5;28;01mif\u001b[39;00m np\u001b[38;5;241m.\u001b[39misnan(\u001b[43msum_gp_samples_svi_sim\u001b[49m\u001b[43m[\u001b[49m\u001b[43mns\u001b[49m\u001b[43m]\u001b[49m[nr][\u001b[38;5;241m0\u001b[39m]):\n\u001b[1;32m      9\u001b[0m             \u001b[38;5;28;01mcontinue\u001b[39;00m\n\u001b[1;32m     10\u001b[0m         \u001b[38;5;28;01melse\u001b[39;00m:\n",
      "\u001b[0;31mIndexError\u001b[0m: list index out of range"
     ]
    },
    {
     "data": {
      "image/png": "[encoded data removed]",
      "text/plain": [
       "<Figure size 960x720 with 1 Axes>"
      ]
     },
     "metadata": {},
     "output_type": "display_data"
    }
   ],
   "source": [
    "c_sim_seeds = np.arange(10)\n",
    "c_svi_seeds = [5]\n",
    "\n",
    "fig = plt.figure(figsize = (8,6))\n",
    "ax = fig.add_subplot(111)\n",
    "for ns in tqdm(c_svi_seeds, desc = 'svi_seeds'):\n",
    "    for nr in tqdm(c_sim_seeds, desc = 'sim_seeds'):\n",
    "        if np.isnan(sum_gp_samples_svi_sim[ns][nr][0]):\n",
    "            continue\n",
    "        else:\n",
    "            ax.hist(jnp.log10(sum_gp_samples_svi_sim[ns][nr]), np.linspace(4.4,4.8,40), alpha = 0.2, color = 'C0', density = True)\n",
    "ax.axvline(jnp.log10(temp_dict['blg'].sum()), lw = 1, c = 'b', ls = '--')\n",
    "ax.set_xlabel(r'$\\log_{10}(\\mathrm{GP\\,Sum})$')\n",
    "ax.set_ylabel(r'$\\mathrm{Density}$')"
   ]
  },
  {
   "cell_type": "code",
   "execution_count": null,
   "metadata": {},
   "outputs": [],
   "source": [
    "from models.poissonian_ed_100 import EbinPoissonModel # to set GPU at the beginning\n",
    "\n",
    "ebinmodel = EbinPoissonModel(\n",
    "        # all parameters\n",
    "        rig_temp_list = rig_temp_list,\n",
    "        hyb_temp_list = hyb_temp_list,\n",
    "        var_temp_list = var_temp_list,\n",
    "        is_gp = is_gp,\n",
    "        gp_deriv = gp_deriv,\n",
    "        data_file = data_file,\n",
    "        rig_temp_sim = rig_temp_sim,\n",
    "        hyb_temp_sim = hyb_temp_sim,\n",
    "        var_temp_sim = var_temp_sim,\n",
    "        is_custom_blg= is_custom_blg,\n",
    "        custom_blg_id = custom_blg_id,\n",
    "        sim_seed = sim_seed,\n",
    "        Nu = Nu,\n",
    "        u_option = u_option,\n",
    "        u_grid_type = u_grid_type,\n",
    "        u_weights = u_weights,\n",
    "        Np = Np,\n",
    "        p_option = p_option,\n",
    "        Nsub = Nsub,\n",
    "        ebin = ebin,\n",
    "        is_float64 = is_float64,\n",
    "        debug_nans = debug_nans,\n",
    "        no_ps_mask = no_ps_mask,\n",
    "        p_grid_type = p_grid_type,\n",
    "        p_weights = p_weights,\n",
    "        gp_kernel = gp_kernel,\n",
    "        gp_params = gp_params,\n",
    "        gp_scale_option = gp_scale_option,\n",
    "        monotonicity_hyperparameter = monotonicity_hyperparameter,\n",
    "        )\n",
    "ebinmodel.config_model(ebin=ebin)"
   ]
  },
  {
   "cell_type": "code",
   "execution_count": null,
   "metadata": {},
   "outputs": [
    {
     "name": "stderr",
     "output_type": "stream",
     "text": [
      "svi_seeds:   0%|          | 0/1 [00:00<?, ?it/s]"
     ]
    },
    {
     "name": "stdout",
     "output_type": "stream",
     "text": [
      "iso\n",
      "psc\n",
      "bub\n",
      "pib\n"
     ]
    },
    {
     "name": "stderr",
     "output_type": "stream",
     "text": [
      "\n",
      "\n",
      "\u001b[A\u001b[A\n",
      "\n",
      "\u001b[A\u001b[A\n",
      "\n",
      "\u001b[A\u001b[A\n",
      "\n",
      "\u001b[A\u001b[A\n",
      "\n",
      "\u001b[A\u001b[A\n",
      "\n",
      "\u001b[A\u001b[A\n",
      "\n",
      "\u001b[A\u001b[A\n",
      "\n",
      "\u001b[A\u001b[A\n",
      "\n",
      "\u001b[A\u001b[A\n",
      "\n",
      "\u001b[A\u001b[A\n",
      "\n",
      "\u001b[A\u001b[A\n",
      "\n",
      "100%|██████████| 1000/1000 [00:01<00:00, 842.43it/s]\n"
     ]
    },
    {
     "name": "stdout",
     "output_type": "stream",
     "text": [
      "ics\n"
     ]
    },
    {
     "name": "stderr",
     "output_type": "stream",
     "text": [
      "\n",
      "\n",
      "\u001b[A\u001b[A\n",
      "\n",
      "\u001b[A\u001b[A\n",
      "\n",
      "\u001b[A\u001b[A\n",
      "\n",
      "\u001b[A\u001b[A\n",
      "\n",
      "\u001b[A\u001b[A\n",
      "\n",
      "\u001b[A\u001b[A\n",
      "\n",
      "\u001b[A\u001b[A\n",
      "\n",
      "\u001b[A\u001b[A\n",
      "\n",
      "\u001b[A\u001b[A\n",
      "\n",
      "\u001b[A\u001b[A\n",
      "\n",
      "\u001b[A\u001b[A\n",
      "\n",
      "100%|██████████| 1000/1000 [00:01<00:00, 850.50it/s]\n"
     ]
    },
    {
     "name": "stdout",
     "output_type": "stream",
     "text": [
      "iso\n",
      "psc\n",
      "bub\n",
      "pib\n"
     ]
    },
    {
     "name": "stderr",
     "output_type": "stream",
     "text": [
      "\n",
      "\n",
      "\u001b[A\u001b[A\n",
      "\n",
      "\u001b[A\u001b[A\n",
      "\n",
      "\u001b[A\u001b[A\n",
      "\n",
      "\u001b[A\u001b[A\n",
      "\n",
      "\u001b[A\u001b[A\n",
      "\n",
      "\u001b[A\u001b[A\n",
      "\n",
      "\u001b[A\u001b[A\n",
      "\n",
      "\u001b[A\u001b[A\n",
      "\n",
      "\u001b[A\u001b[A\n",
      "\n",
      "\u001b[A\u001b[A\n",
      "\n",
      "\u001b[A\u001b[A\n",
      "\n",
      "100%|██████████| 1000/1000 [00:01<00:00, 889.03it/s]\n"
     ]
    },
    {
     "name": "stdout",
     "output_type": "stream",
     "text": [
      "ics\n"
     ]
    },
    {
     "name": "stderr",
     "output_type": "stream",
     "text": [
      "\n",
      "\n",
      "\u001b[A\u001b[A\n",
      "\n",
      "\u001b[A\u001b[A\n",
      "\n",
      "\u001b[A\u001b[A\n",
      "\n",
      "\u001b[A\u001b[A\n",
      "\n",
      "\u001b[A\u001b[A\n",
      "\n",
      "\u001b[A\u001b[A\n",
      "\n",
      "\u001b[A\u001b[A\n",
      "\n",
      "\u001b[A\u001b[A\n",
      "\n",
      "\u001b[A\u001b[A\n",
      "\n",
      "\u001b[A\u001b[A\n",
      "\n",
      "\u001b[A\u001b[A\n",
      "\n",
      "100%|██████████| 1000/1000 [00:01<00:00, 865.08it/s]\n"
     ]
    },
    {
     "name": "stdout",
     "output_type": "stream",
     "text": [
      "iso\n",
      "psc\n",
      "bub\n",
      "pib\n"
     ]
    },
    {
     "name": "stderr",
     "output_type": "stream",
     "text": [
      "\n",
      "\n",
      "\u001b[A\u001b[A\n",
      "\n",
      "\u001b[A\u001b[A\n",
      "\n",
      "\u001b[A\u001b[A\n",
      "\n",
      "\u001b[A\u001b[A\n",
      "\n",
      "\u001b[A\u001b[A\n",
      "\n",
      "\u001b[A\u001b[A\n",
      "\n",
      "\u001b[A\u001b[A\n",
      "\n",
      "\u001b[A\u001b[A\n",
      "\n",
      "\u001b[A\u001b[A\n",
      "\n",
      "\u001b[A\u001b[A\n",
      "\n",
      "\u001b[A\u001b[A\n",
      "\n",
      "100%|██████████| 1000/1000 [00:01<00:00, 849.55it/s]\n"
     ]
    },
    {
     "name": "stdout",
     "output_type": "stream",
     "text": [
      "ics\n"
     ]
    },
    {
     "name": "stderr",
     "output_type": "stream",
     "text": [
      "\n",
      "\n",
      "\u001b[A\u001b[A\n",
      "\n",
      "\u001b[A\u001b[A\n",
      "\n",
      "\u001b[A\u001b[A\n",
      "\n",
      "\u001b[A\u001b[A\n",
      "\n",
      "\u001b[A\u001b[A\n",
      "\n",
      "\u001b[A\u001b[A\n",
      "\n",
      "\u001b[A\u001b[A\n",
      "\n",
      "\u001b[A\u001b[A\n",
      "\n",
      "\u001b[A\u001b[A\n",
      "\n",
      "\u001b[A\u001b[A\n",
      "\n",
      "100%|██████████| 1000/1000 [00:01<00:00, 920.20it/s]\n"
     ]
    },
    {
     "name": "stdout",
     "output_type": "stream",
     "text": [
      "iso\n",
      "psc\n",
      "bub\n",
      "pib\n"
     ]
    },
    {
     "name": "stderr",
     "output_type": "stream",
     "text": [
      "\n",
      "\n",
      "\u001b[A\u001b[A\n",
      "\n",
      "\u001b[A\u001b[A\n",
      "\n",
      "\u001b[A\u001b[A\n",
      "\n",
      "\u001b[A\u001b[A\n",
      "\n",
      "\u001b[A\u001b[A\n",
      "\n",
      "\u001b[A\u001b[A\n",
      "\n",
      "\u001b[A\u001b[A\n",
      "\n",
      "\u001b[A\u001b[A\n",
      "\n",
      "\u001b[A\u001b[A\n",
      "\n",
      "\u001b[A\u001b[A\n",
      "\n",
      "\u001b[A\u001b[A\n",
      "\n",
      "100%|██████████| 1000/1000 [00:01<00:00, 850.49it/s]\n"
     ]
    },
    {
     "name": "stdout",
     "output_type": "stream",
     "text": [
      "ics\n"
     ]
    },
    {
     "name": "stderr",
     "output_type": "stream",
     "text": [
      "\n",
      "\n",
      "\u001b[A\u001b[A\n",
      "\n",
      "\u001b[A\u001b[A\n",
      "\n",
      "\u001b[A\u001b[A\n",
      "\n",
      "\u001b[A\u001b[A\n",
      "\n",
      "\u001b[A\u001b[A\n",
      "\n",
      "\u001b[A\u001b[A\n",
      "\n",
      "\u001b[A\u001b[A\n",
      "\n",
      "\u001b[A\u001b[A\n",
      "\n",
      "\u001b[A\u001b[A\n",
      "\n",
      "\u001b[A\u001b[A\n",
      "\n",
      "\u001b[A\u001b[A\n",
      "\n",
      "100%|██████████| 1000/1000 [00:01<00:00, 884.56it/s]\n"
     ]
    },
    {
     "name": "stdout",
     "output_type": "stream",
     "text": [
      "iso\n",
      "psc\n",
      "bub\n",
      "pib\n"
     ]
    },
    {
     "name": "stderr",
     "output_type": "stream",
     "text": [
      "\n",
      "\n",
      "\u001b[A\u001b[A\n",
      "\n",
      "\u001b[A\u001b[A\n",
      "\n",
      "\u001b[A\u001b[A\n",
      "\n",
      "\u001b[A\u001b[A\n",
      "\n",
      "\u001b[A\u001b[A\n",
      "\n",
      "\u001b[A\u001b[A\n",
      "\n",
      "\u001b[A\u001b[A\n",
      "\n",
      "\u001b[A\u001b[A\n",
      "\n",
      "\u001b[A\u001b[A\n",
      "\n",
      "\u001b[A\u001b[A\n",
      "\n",
      "\u001b[A\u001b[A\n",
      "\n",
      "100%|██████████| 1000/1000 [00:01<00:00, 838.37it/s]\n"
     ]
    },
    {
     "name": "stdout",
     "output_type": "stream",
     "text": [
      "ics\n"
     ]
    },
    {
     "name": "stderr",
     "output_type": "stream",
     "text": [
      "\n",
      "\n",
      "\u001b[A\u001b[A\n",
      "\n",
      "\u001b[A\u001b[A\n",
      "\n",
      "\u001b[A\u001b[A\n",
      "\n",
      "\u001b[A\u001b[A\n",
      "\n",
      "\u001b[A\u001b[A\n",
      "\n",
      "\u001b[A\u001b[A\n",
      "\n",
      "\u001b[A\u001b[A\n",
      "\n",
      "\u001b[A\u001b[A\n",
      "\n",
      "\u001b[A\u001b[A\n",
      "\n",
      "\u001b[A\u001b[A\n",
      "\n",
      "\u001b[A\u001b[A\n",
      "\n",
      "100%|██████████| 1000/1000 [00:01<00:00, 842.18it/s]\n"
     ]
    },
    {
     "name": "stdout",
     "output_type": "stream",
     "text": [
      "iso\n",
      "psc\n",
      "bub\n",
      "pib\n"
     ]
    },
    {
     "name": "stderr",
     "output_type": "stream",
     "text": [
      "\n",
      "\n",
      "\u001b[A\u001b[A\n",
      "\n",
      "\u001b[A\u001b[A\n",
      "\n",
      "\u001b[A\u001b[A\n",
      "\n",
      "\u001b[A\u001b[A\n",
      "\n",
      "\u001b[A\u001b[A\n",
      "\n",
      "\u001b[A\u001b[A\n",
      "\n",
      "\u001b[A\u001b[A\n",
      "\n",
      "\u001b[A\u001b[A\n",
      "\n",
      "\u001b[A\u001b[A\n",
      "\n",
      "\u001b[A\u001b[A\n",
      "\n",
      "\u001b[A\u001b[A\n",
      "\n",
      "100%|██████████| 1000/1000 [00:01<00:00, 847.17it/s]\n"
     ]
    },
    {
     "name": "stdout",
     "output_type": "stream",
     "text": [
      "ics\n"
     ]
    },
    {
     "name": "stderr",
     "output_type": "stream",
     "text": [
      "\n",
      "\n",
      "\u001b[A\u001b[A\n",
      "\n",
      "\u001b[A\u001b[A\n",
      "\n",
      "\u001b[A\u001b[A\n",
      "\n",
      "\u001b[A\u001b[A\n",
      "\n",
      "\u001b[A\u001b[A\n",
      "\n",
      "\u001b[A\u001b[A\n",
      "\n",
      "\u001b[A\u001b[A\n",
      "\n",
      "\u001b[A\u001b[A\n",
      "\n",
      "\u001b[A\u001b[A\n",
      "\n",
      "\u001b[A\u001b[A\n",
      "\n",
      "\u001b[A\u001b[A\n",
      "\n",
      "100%|██████████| 1000/1000 [00:01<00:00, 849.10it/s]\n"
     ]
    },
    {
     "name": "stdout",
     "output_type": "stream",
     "text": [
      "iso\n",
      "psc\n",
      "bub\n",
      "pib\n"
     ]
    },
    {
     "name": "stderr",
     "output_type": "stream",
     "text": [
      "\n",
      "\n",
      "\u001b[A\u001b[A\n",
      "\n",
      "\u001b[A\u001b[A\n",
      "\n",
      "\u001b[A\u001b[A\n",
      "\n",
      "\u001b[A\u001b[A\n",
      "\n",
      "\u001b[A\u001b[A\n",
      "\n",
      "\u001b[A\u001b[A\n",
      "\n",
      "\u001b[A\u001b[A\n",
      "\n",
      "\u001b[A\u001b[A\n",
      "\n",
      "\u001b[A\u001b[A\n",
      "\n",
      "\u001b[A\u001b[A\n",
      "\n",
      "100%|██████████| 1000/1000 [00:01<00:00, 944.89it/s]\n"
     ]
    },
    {
     "name": "stdout",
     "output_type": "stream",
     "text": [
      "ics\n"
     ]
    },
    {
     "name": "stderr",
     "output_type": "stream",
     "text": [
      "\n",
      "\n",
      "\u001b[A\u001b[A\n",
      "\n",
      "\u001b[A\u001b[A\n",
      "\n",
      "\u001b[A\u001b[A\n",
      "\n",
      "\u001b[A\u001b[A\n",
      "\n",
      "\u001b[A\u001b[A\n",
      "\n",
      "\u001b[A\u001b[A\n",
      "\n",
      "\u001b[A\u001b[A\n",
      "\n",
      "\u001b[A\u001b[A\n",
      "\n",
      "\u001b[A\u001b[A\n",
      "\n",
      "\u001b[A\u001b[A\n",
      "\n",
      "100%|██████████| 1000/1000 [00:01<00:00, 955.88it/s]\n"
     ]
    },
    {
     "name": "stdout",
     "output_type": "stream",
     "text": [
      "iso\n",
      "psc\n",
      "bub\n",
      "pib\n"
     ]
    },
    {
     "name": "stderr",
     "output_type": "stream",
     "text": [
      "\n",
      "\n",
      "\u001b[A\u001b[A\n",
      "\n",
      "\u001b[A\u001b[A\n",
      "\n",
      "\u001b[A\u001b[A\n",
      "\n",
      "\u001b[A\u001b[A\n",
      "\n",
      "\u001b[A\u001b[A\n",
      "\n",
      "\u001b[A\u001b[A\n",
      "\n",
      "\u001b[A\u001b[A\n",
      "\n",
      "\u001b[A\u001b[A\n",
      "\n",
      "\u001b[A\u001b[A\n",
      "\n",
      "\u001b[A\u001b[A\n",
      "\n",
      "100%|██████████| 1000/1000 [00:01<00:00, 956.90it/s]\n"
     ]
    },
    {
     "name": "stdout",
     "output_type": "stream",
     "text": [
      "ics\n"
     ]
    },
    {
     "name": "stderr",
     "output_type": "stream",
     "text": [
      "\n",
      "\n",
      "\u001b[A\u001b[A\n",
      "\n",
      "\u001b[A\u001b[A\n",
      "\n",
      "\u001b[A\u001b[A\n",
      "\n",
      "\u001b[A\u001b[A\n",
      "\n",
      "\u001b[A\u001b[A\n",
      "\n",
      "\u001b[A\u001b[A\n",
      "\n",
      "\u001b[A\u001b[A\n",
      "\n",
      "\u001b[A\u001b[A\n",
      "\n",
      "\u001b[A\u001b[A\n",
      "\n",
      "\u001b[A\u001b[A\n",
      "\n",
      "100%|██████████| 1000/1000 [00:01<00:00, 953.39it/s]\n"
     ]
    },
    {
     "name": "stdout",
     "output_type": "stream",
     "text": [
      "iso\n",
      "psc\n",
      "bub\n",
      "pib\n"
     ]
    },
    {
     "name": "stderr",
     "output_type": "stream",
     "text": [
      "\n",
      "\n",
      "\u001b[A\u001b[A\n",
      "\n",
      "\u001b[A\u001b[A\n",
      "\n",
      "\u001b[A\u001b[A\n",
      "\n",
      "\u001b[A\u001b[A\n",
      "\n",
      "\u001b[A\u001b[A\n",
      "\n",
      "\u001b[A\u001b[A\n",
      "\n",
      "\u001b[A\u001b[A\n",
      "\n",
      "\u001b[A\u001b[A\n",
      "\n",
      "\u001b[A\u001b[A\n",
      "\n",
      "\u001b[A\u001b[A\n",
      "\n",
      "100%|██████████| 1000/1000 [00:01<00:00, 914.16it/s]\n"
     ]
    },
    {
     "name": "stdout",
     "output_type": "stream",
     "text": [
      "ics\n"
     ]
    },
    {
     "name": "stderr",
     "output_type": "stream",
     "text": [
      "\n",
      "\n",
      "\u001b[A\u001b[A\n",
      "\n",
      "\u001b[A\u001b[A\n",
      "\n",
      "\u001b[A\u001b[A\n",
      "\n",
      "\u001b[A\u001b[A\n",
      "\n",
      "\u001b[A\u001b[A\n",
      "\n",
      "\u001b[A\u001b[A\n",
      "\n",
      "\u001b[A\u001b[A\n",
      "\n",
      "\u001b[A\u001b[A\n",
      "\n",
      "\u001b[A\u001b[A\n",
      "\n",
      "\u001b[A\u001b[A\n",
      "\n",
      "100%|██████████| 1000/1000 [00:01<00:00, 929.60it/s]\n"
     ]
    },
    {
     "name": "stdout",
     "output_type": "stream",
     "text": [
      "iso\n",
      "psc\n",
      "bub\n",
      "pib\n"
     ]
    },
    {
     "name": "stderr",
     "output_type": "stream",
     "text": [
      "\n",
      "\n",
      "\u001b[A\u001b[A\n",
      "\n",
      "\u001b[A\u001b[A\n",
      "\n",
      "\u001b[A\u001b[A\n",
      "\n",
      "\u001b[A\u001b[A\n",
      "\n",
      "\u001b[A\u001b[A\n",
      "\n",
      "\u001b[A\u001b[A\n",
      "\n",
      "\u001b[A\u001b[A\n",
      "\n",
      "\u001b[A\u001b[A\n",
      "\n",
      "\u001b[A\u001b[A\n",
      "\n",
      "\u001b[A\u001b[A\n",
      "\n",
      "100%|██████████| 1000/1000 [00:01<00:00, 929.66it/s]\n"
     ]
    },
    {
     "name": "stdout",
     "output_type": "stream",
     "text": [
      "ics\n"
     ]
    },
    {
     "name": "stderr",
     "output_type": "stream",
     "text": [
      "\n",
      "\u001b[A\u001b[A\n",
      "\n",
      "\u001b[A\u001b[A\n",
      "\n",
      "\u001b[A\u001b[A\n",
      "\n",
      "\u001b[A\u001b[A\n",
      "\n",
      "\u001b[A\u001b[A\n",
      "\n",
      "\u001b[A\u001b[A\n",
      "\n",
      "\u001b[A\u001b[A\n",
      "\n",
      "\u001b[A\u001b[A\n",
      "\n",
      "\u001b[A\u001b[A\n",
      "\n",
      "\u001b[A\u001b[A\n",
      "\n",
      "100%|██████████| 1000/1000 [00:01<00:00, 926.99it/s]\n",
      "sim_seeds: 100%|██████████| 10/10 [00:25<00:00,  2.52s/it]\n",
      "svi_seeds: 100%|██████████| 1/1 [00:25<00:00, 25.23s/it]\n"
     ]
    }
   ],
   "source": [
    "temp_names_sim = rig_temp_sim + hyb_temp_sim + var_temp_sim # imported from settings file\n",
    "\n",
    "temp_sample_dict_svi_sim = []\n",
    "\n",
    "# NOTE: Indices now don't track the IDs. So, you need to keep track of the indices\n",
    "Ncs = len(c_svi_seeds)\n",
    "Ncr = len(c_sim_seeds)\n",
    "for ns in tqdm(range(Ncs), desc = 'svi_seeds'):\n",
    "    temp_sample_dict_sim = []\n",
    "    for nr in tqdm(range(Ncr), desc = 'sim_seeds'):\n",
    "        samples = samples_svi_sim[ns][nr]\n",
    "        gp_samples = gp_samples_svi_sim[ns][nr]\n",
    "        temp_sample_dict = ef.generate_temp_sample_maps(samples, ebinmodel, gp_samples = gp_samples)\n",
    "        temp_sample_dict_sim.append(temp_sample_dict)\n",
    "    temp_sample_dict_svi_sim.append(temp_sample_dict_sim)"
   ]
  },
  {
   "cell_type": "code",
   "execution_count": null,
   "metadata": {},
   "outputs": [
    {
     "name": "stderr",
     "output_type": "stream",
     "text": [
      "sim_seeds: 100%|██████████| 10/10 [00:01<00:00,  6.46it/s]\n",
      "svi_seeds: 100%|██████████| 1/1 [00:01<00:00,  1.55s/it]\n"
     ]
    },
    {
     "data": {
      "image/png": "[encoded data removed]",
      "text/plain": [
       "<Figure size 1440x720 with 1 Axes>"
      ]
     },
     "metadata": {},
     "output_type": "display_data"
    }
   ],
   "source": [
    "fig = plt.figure(figsize=(12, 6), dpi= 120)\n",
    "ax = fig.add_subplot(111)\n",
    "\n",
    "bins = np.linspace(3,6.5,200)\n",
    "alpha = 0.2\n",
    "histtype = 'stepfilled'\n",
    "\n",
    "all_temp_names = ['iso', 'psc', 'bub', 'pib', 'ics', 'blg', 'gp', 'nfw', 'dsk']\n",
    "ccodes = ['C0', 'C1', 'C2', 'C3', 'C4', 'C5', 'C5', 'C6', 'C7']\n",
    "names = list(temp_sample_dict.keys())\n",
    "ordered_names = [name for name in all_temp_names if name in names]\n",
    "\n",
    "Ncs = len(c_svi_seeds)\n",
    "Ncr = len(c_sim_seeds)\n",
    "c = 0\n",
    "for ns in tqdm(range(Ncs), desc = 'svi_seeds'):\n",
    "    for nr in tqdm(range(Ncr), desc = 'sim_seeds'):\n",
    "        temp_sample_dict = temp_sample_dict_svi_sim[ns][nr]\n",
    "        for k in range(len(ordered_names)):\n",
    "            name = ordered_names[k]\n",
    "            idx = all_temp_names.index(name)\n",
    "            ccode = ccodes[idx]\n",
    "            # if name == 'gp':\n",
    "            #     temp_sum = jnp.exp(temp_sample_dict[name]).sum(axis = 1) # sum over spatial bins\n",
    "            #     ax.hist(np.log10(temp_sum), bins = bins, alpha = 0.75, label = name, density = True, histtype = 'step', color = ccode)\n",
    "            # else:\n",
    "            temp_sum = temp_sample_dict[name].sum(axis = 1) # sum over spatial bins\n",
    "            if c == 0:\n",
    "                ax.hist(np.log10(temp_sum), bins = bins, alpha = alpha, label = name, density = True, histtype = histtype, color = ccode)\n",
    "            else:\n",
    "                ax.hist(np.log10(temp_sum), bins = bins, alpha = alpha, density = True, histtype = histtype, color = ccode)\n",
    "\n",
    "        if temp_dict is not None:\n",
    "            names_sim = temp_names_sim # this piece is provided by the \"settings\" file since we only save a dictionary with all the fit parameters\n",
    "            ordered_names_sim = [name for name in all_temp_names if name in names_sim]\n",
    "            for k in range(len(ordered_names_sim)):\n",
    "                name = ordered_names_sim[k]\n",
    "                idx = all_temp_names.index(name)\n",
    "                ccode = ccodes[idx]\n",
    "                temp_sum_sim = temp_dict[name].sum(axis = 0)\n",
    "                ax.axvline(np.log10(temp_sum_sim), linestyle='--', c = ccode)\n",
    "        c += 1\n",
    "        \n",
    "        ax.legend()\n",
    "        ax.set_xlabel(r'$\\log_{10}(\\mathrm{counts})$')\n",
    "        ax.set_ylabel(r'$\\mathrm{density}$')\n",
    "        ax.set_title(r'$\\mathrm{Counts\\ in\\ Unmasked\\ Region}$')"
   ]
  },
  {
   "cell_type": "code",
   "execution_count": null,
   "metadata": {},
   "outputs": [],
   "source": [
    "fig = plt.figure(figsize=(12, 6), dpi= 120)\n",
    "ax = fig.add_subplot(111)\n",
    "\n",
    "all_temp_names = ['iso', 'psc', 'bub', 'pib', 'ics', 'blg', 'gp', 'nfw', 'dsk']\n",
    "ccodes = ['C0', 'C1', 'C2', 'C3', 'C4', 'C5', 'C5', 'C6', 'C7']\n",
    "names = list(temp_sample_dict.keys())\n",
    "\n",
    "ordered_names = [name for name in all_temp_names if name in names]\n",
    "for k in range(len(ordered_names)):\n",
    "    name = ordered_names[k]\n",
    "    idx = all_temp_names.index(name)\n",
    "    ccode = ccodes[idx]\n",
    "    # if name == 'gp':\n",
    "    #     temp_sum = jnp.exp(temp_sample_dict[name]).sum(axis = 1) # sum over spatial bins\n",
    "    #     ax.hist(np.log10(temp_sum), bins = bins, alpha = 0.75, label = name, density = True, histtype = 'step', color = ccode)\n",
    "    # else:\n",
    "    temp_sum = temp_sample_dict[name].sum(axis = 1) # sum over spatial bins\n",
    "    ax.hist(np.log10(temp_sum), bins = bins, alpha = 0.75, label = name, density = True, histtype = 'step', color = ccode)\n",
    "\n",
    "if temp_sim_dict is not None:\n",
    "    names_sim = temp_sim_names # this piece is provided by the \"settings\" file since we only save a dictionary with all the fit parameters\n",
    "    ordered_names_sim = [name for name in all_temp_names if name in names_sim]\n",
    "    for k in range(len(ordered_names_sim)):\n",
    "        name = ordered_names_sim[k]\n",
    "        idx = all_temp_names.index(name)\n",
    "        ccode = ccodes[idx]\n",
    "        temp_sum_sim = temp_sim_dict[name].sum(axis = 0)\n",
    "        ax.axvline(np.log10(temp_sum_sim), linestyle='--', c = ccode)\n",
    "\n",
    "ax.legend()\n",
    "ax.set_xlabel(r'$\\log_{10}(\\mathrm{counts})$')\n",
    "ax.set_ylabel(r'$\\mathrm{density}$')\n",
    "ax.set_title(r'$\\mathrm{Counts\\ in\\ Unmasked\\ Region}$')"
   ]
  },
  {
   "cell_type": "code",
   "execution_count": null,
   "metadata": {},
   "outputs": [],
   "source": []
  }
 ],
 "metadata": {
  "kernelspec": {
   "display_name": "jax",
   "language": "python",
   "name": "python3"
  },
  "language_info": {
   "codemirror_mode": {
    "name": "ipython",
    "version": 3
   },
   "file_extension": ".py",
   "mimetype": "text/x-python",
   "name": "python",
   "nbconvert_exporter": "python",
   "pygments_lexer": "ipython3",
   "version": "3.11.4"
  }
 },
 "nbformat": 4,
 "nbformat_minor": 2
}
