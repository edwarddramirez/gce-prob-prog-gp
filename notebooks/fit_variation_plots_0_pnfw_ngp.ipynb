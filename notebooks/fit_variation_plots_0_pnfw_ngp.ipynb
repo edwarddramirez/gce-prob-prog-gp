{
 "cells": [
  {
   "cell_type": "code",
   "execution_count": 2,
   "metadata": {},
   "outputs": [],
   "source": [
    "%reload_ext autoreload\n",
    "%autoreload 2\n",
    "\n",
    "import sys\n",
    "sys.path.append(\"..\")\n",
    "\n",
    "import numpy as np\n",
    "import healpy as hp\n",
    "from astropy.io import fits\n",
    "from pprint import pprint\n",
    "from tqdm import tqdm\n",
    "import pickle\n",
    "import corner\n",
    "import os\n",
    "import arviz as az\n",
    "\n",
    "from scipy import optimize\n",
    "from scipy.stats import poisson\n",
    "\n",
    "import jax\n",
    "import jax.numpy as jnp\n",
    "\n",
    "%matplotlib inline\n",
    "import matplotlib as mpl\n",
    "import matplotlib.pyplot as plt\n",
    "mpl.rc_file('../utils/matplotlibrc')\n",
    "\n",
    "from utils import ed_fcts as ef"
   ]
  },
  {
   "cell_type": "code",
   "execution_count": 4,
   "metadata": {},
   "outputs": [],
   "source": [
    "# first, load samples from each run\n",
    "\n",
    "# load SVI fit results (these should be the only parameters that you are loading)\n",
    "gpu_id = '2'\n",
    "\n",
    "# sim name\n",
    "sim_name = 'canon_g1_pnfw'\n",
    "\n",
    "# load SVI fit results (these should be the only parameters that you are loading)\n",
    "sim_id = 7.1234567\n",
    "temp_id = 5.23457\n",
    "gp_id = 0\n",
    "blg_id = -1\n",
    "mod_id = 0\n",
    "svi_id = 1\n",
    "\n",
    "# variable inputs\n",
    "sim_seeds = np.arange(4)\n",
    "svi_seeds = np.arange(0,1)"
   ]
  },
  {
   "cell_type": "code",
   "execution_count": 5,
   "metadata": {},
   "outputs": [],
   "source": [
    "# load GPU\n",
    "os.environ['XLA_PYTHON_CLIENT_PREALLOCATE'] = 'false'\n",
    "os.environ['CUDA_VISIBLE_DEVICES'] = gpu_id\n",
    "\n",
    "data_dir = ef.load_data_dir(sim_name)\n",
    "os.system(\"mkdir -p \"+data_dir)\n",
    "\n",
    "# Load the simulated templates\n",
    "## NOTE: This information should already be taken into account once\n",
    "## specifying the relevant IDs ; however, this is a good way to double-check\n",
    "## you're loading what you want\n",
    "ebin = 10\n",
    "\n",
    "temp_dict = np.load(data_dir + 'all_templates_ebin' + str(ebin)  + '.npy', allow_pickle=True).item()"
   ]
  },
  {
   "cell_type": "code",
   "execution_count": 6,
   "metadata": {},
   "outputs": [
    {
     "name": "stdout",
     "output_type": "stream",
     "text": [
      "/\n",
      "    settings_7p1234567_5p23457_0_-1_0_1_1_0.py\n",
      "    summary.txt\n",
      "    __init__.py\n",
      "    ebin10_smp_svi_0.01_5000_mvn_16_1_0.p\n"
     ]
    },
    {
     "name": "stderr",
     "output_type": "stream",
     "text": [
      "/home/edr76/.conda/envs/jax/lib/python3.11/site-packages/tqdm/auto.py:21: TqdmWarning: IProgress not found. Please update jupyter and ipywidgets. See https://ipywidgets.readthedocs.io/en/stable/user_install.html\n",
      "  from .autonotebook import tqdm as notebook_tqdm\n"
     ]
    }
   ],
   "source": [
    "sim_seed = 1\n",
    "svi_seed = 0\n",
    "\n",
    "fit_filename, module_name = ef.generate_fit_filename_from_ids(sim_id, temp_id, gp_id, blg_id, mod_id, svi_id, sim_seed, svi_seed)\n",
    "fit_dir = data_dir + 'fits/' + fit_filename + '/'\n",
    "ef.list_files(fit_dir)\n",
    "\n",
    "sys.path.append(fit_dir)\n",
    "import importlib \n",
    "module = importlib.import_module(module_name)\n",
    "\n",
    "# Load all the variables from the module\n",
    "globals().update(vars(module))\n",
    "\n",
    "file_name = ('ebin' + str_ebin + '_smp_svi_' + \n",
    "             str_lr + '_' + str_n_steps + '_' + \n",
    "                str_guide + '_' + str_num_particles + '_' + \n",
    "                str_sim_seed + '_' + str_svi_seed + '.p')\n",
    "\n",
    "if is_gp:\n",
    "   samples, svi_results, gp_samples = pickle.load(open(fit_dir + file_name, 'rb'))\n",
    "else:\n",
    "   samples, svi_results = pickle.load(open(fit_dir + file_name, 'rb'))"
   ]
  },
  {
   "cell_type": "code",
   "execution_count": 7,
   "metadata": {},
   "outputs": [
    {
     "ename": "NameError",
     "evalue": "name 'gp_samples' is not defined",
     "output_type": "error",
     "traceback": [
      "\u001b[0;31m---------------------------------------------------------------------------\u001b[0m",
      "\u001b[0;31mNameError\u001b[0m                                 Traceback (most recent call last)",
      "Cell \u001b[0;32mIn[7], line 1\u001b[0m\n\u001b[0;32m----> 1\u001b[0m \u001b[38;5;28mprint\u001b[39m(jnp\u001b[38;5;241m.\u001b[39mexp(\u001b[43mgp_samples\u001b[49m)\u001b[38;5;241m.\u001b[39msum(axis \u001b[38;5;241m=\u001b[39m \u001b[38;5;241m1\u001b[39m))\n",
      "\u001b[0;31mNameError\u001b[0m: name 'gp_samples' is not defined"
     ]
    }
   ],
   "source": [
    "print(jnp.exp(gp_samples).sum(axis = 1))"
   ]
  },
  {
   "cell_type": "code",
   "execution_count": 8,
   "metadata": {},
   "outputs": [
    {
     "name": "stderr",
     "output_type": "stream",
     "text": [
      "sim_seeds: 100%|██████████| 4/4 [00:00<00:00, 44.25it/s]\n",
      "svi_seeds: 100%|██████████| 1/1 [00:00<00:00, 10.79it/s]\n"
     ]
    }
   ],
   "source": [
    "# TODO: Probably a better way to collect this data; \n",
    "# for example, make a dictionary whose inputs are ordered pairs of the variable inputs\n",
    "\n",
    "samples_svi_sim = []\n",
    "svi_results_svi_sim = []\n",
    "# gp_samples_svi_sim = []\n",
    "\n",
    "for svi_seed in tqdm(svi_seeds, desc = 'svi_seeds'):\n",
    "    samples_sim = []\n",
    "    svi_results_sim = []\n",
    "   #  gp_samples_sim = []\n",
    "    for sim_seed in tqdm(sim_seeds, desc = 'sim_seeds'):\n",
    "        # if fit_dir in sys.path:\n",
    "        #     sys.path.pop(-1)\n",
    "        fit_filename, module_name = ef.generate_fit_filename_from_ids(sim_id, temp_id, gp_id, blg_id, mod_id, svi_id, sim_seed, svi_seed)\n",
    "        fit_dir = data_dir + 'fits/' + fit_filename + '/'\n",
    "\n",
    "        sys.path.append(fit_dir)\n",
    "        import importlib \n",
    "        module = importlib.import_module(module_name)\n",
    "\n",
    "        # Load all the variables from the module\n",
    "        globals().update(vars(module))\n",
    "\n",
    "        file_name = ('ebin' + str_ebin + '_smp_svi_' + \n",
    "                     str_lr + '_' + str_n_steps + '_' + \n",
    "                        str_guide + '_' + str_num_particles + '_' + \n",
    "                        str_sim_seed + '_' + str_svi_seed + '.p')\n",
    "\n",
    "        if is_gp:\n",
    "           samples, svi_results, gp_samples = pickle.load(open(fit_dir + file_name, 'rb'))\n",
    "        else:\n",
    "           samples, svi_results = pickle.load(open(fit_dir + file_name, 'rb'))\n",
    "        \n",
    "        samples_sim.append(samples)\n",
    "        svi_results_sim.append(svi_results)\n",
    "      #   gp_samples_sim.append(gp_samples)\n",
    "        \n",
    "    samples_svi_sim.append(samples_sim)\n",
    "    svi_results_svi_sim.append(svi_results_sim)\n",
    "   #  gp_samples_svi_sim.append(gp_samples_sim)"
   ]
  },
  {
   "cell_type": "code",
   "execution_count": 9,
   "metadata": {},
   "outputs": [
    {
     "name": "stderr",
     "output_type": "stream",
     "text": [
      "[autoreload of __main__ failed: Traceback (most recent call last):\n",
      "  File \"/home/edr76/.conda/envs/jax/lib/python3.11/site-packages/IPython/extensions/autoreload.py\", line 276, in check\n",
      "    superreload(m, reload, self.old_objects)\n",
      "  File \"/home/edr76/.conda/envs/jax/lib/python3.11/site-packages/IPython/extensions/autoreload.py\", line 475, in superreload\n",
      "    module = reload(module)\n",
      "             ^^^^^^^^^^^^^^\n",
      "  File \"/home/edr76/.conda/envs/jax/lib/python3.11/importlib/__init__.py\", line 148, in reload\n",
      "    raise ImportError(msg.format(name), name=name)\n",
      "ImportError: module settings_7p1234567_5p23457_0_-1_0_1_3_0 not in sys.modules\n",
      "]\n",
      "[autoreload of __main__ failed: Traceback (most recent call last):\n",
      "  File \"/home/edr76/.conda/envs/jax/lib/python3.11/site-packages/IPython/extensions/autoreload.py\", line 276, in check\n",
      "    superreload(m, reload, self.old_objects)\n",
      "  File \"/home/edr76/.conda/envs/jax/lib/python3.11/site-packages/IPython/extensions/autoreload.py\", line 475, in superreload\n",
      "    module = reload(module)\n",
      "             ^^^^^^^^^^^^^^\n",
      "  File \"/home/edr76/.conda/envs/jax/lib/python3.11/importlib/__init__.py\", line 148, in reload\n",
      "    raise ImportError(msg.format(name), name=name)\n",
      "ImportError: module settings_7p1234567_5p23457_0_-1_0_1_3_0 not in sys.modules\n",
      "]\n"
     ]
    }
   ],
   "source": [
    "from models.poissonian_ed import EbinPoissonModel # to set GPU at the beginning\n",
    "\n",
    "ebinmodel = EbinPoissonModel(\n",
    "        # all parameters\n",
    "        rig_temp_list = rig_temp_list,\n",
    "        hyb_temp_list = hyb_temp_list,\n",
    "        var_temp_list = var_temp_list,\n",
    "        is_gp = is_gp,\n",
    "        gp_deriv = gp_deriv,\n",
    "        data_file = data_file,\n",
    "        rig_temp_sim = rig_temp_sim,\n",
    "        hyb_temp_sim = hyb_temp_sim,\n",
    "        var_temp_sim = var_temp_sim,\n",
    "        is_custom_blg= is_custom_blg,\n",
    "        custom_blg_id = custom_blg_id,\n",
    "        sim_seed = sim_seed,\n",
    "        Nu = Nu,\n",
    "        u_option = u_option,\n",
    "        u_grid_type = u_grid_type,\n",
    "        u_weights = u_weights,\n",
    "        Np = Np,\n",
    "        p_option = p_option,\n",
    "        Nsub = Nsub,\n",
    "        ebin = ebin,\n",
    "        is_float64 = is_float64,\n",
    "        debug_nans = debug_nans,\n",
    "        no_ps_mask = no_ps_mask,\n",
    "        p_grid_type = p_grid_type,\n",
    "        p_weights = p_weights,\n",
    "        gp_kernel = gp_kernel,\n",
    "        gp_params = gp_params,\n",
    "        gp_scale_option = gp_scale_option,\n",
    "        monotonicity_hyperparameter = monotonicity_hyperparameter,\n",
    "        nfw_gamma = nfw_gamma,\n",
    "        )\n",
    "ebinmodel.config_model(ebin=ebin)"
   ]
  },
  {
   "cell_type": "code",
   "execution_count": 10,
   "metadata": {},
   "outputs": [
    {
     "name": "stderr",
     "output_type": "stream",
     "text": [
      "svi_seeds:   0%|          | 0/1 [00:00<?, ?it/s]"
     ]
    },
    {
     "name": "stdout",
     "output_type": "stream",
     "text": [
      "iso\n",
      "psc\n",
      "bub\n",
      "pib\n"
     ]
    },
    {
     "name": "stderr",
     "output_type": "stream",
     "text": [
      "\n",
      "\u001b[A\n",
      "\u001b[A\n",
      "\u001b[A\n",
      "\u001b[A\n",
      "\u001b[A\n",
      "\u001b[A\n",
      "\u001b[A\n",
      "\u001b[A\n",
      "\u001b[A\n",
      "\u001b[A\n",
      "\u001b[A\n",
      "\u001b[A\n",
      "\u001b[A\n",
      "\u001b[A\n",
      "\u001b[A\n",
      "\u001b[A\n",
      "\u001b[A\n",
      "\u001b[A\n",
      "\u001b[A\n",
      "\u001b[A\n",
      "\u001b[A\n",
      "\u001b[A\n",
      "\u001b[A\n",
      "\u001b[A\n",
      "\u001b[A\n",
      "100%|██████████| 1000/1000 [00:02<00:00, 347.62it/s]\n"
     ]
    },
    {
     "name": "stdout",
     "output_type": "stream",
     "text": [
      "ics\n"
     ]
    },
    {
     "name": "stderr",
     "output_type": "stream",
     "text": [
      "\n",
      "\u001b[A\n",
      "\u001b[A\n",
      "\u001b[A\n",
      "\u001b[A\n",
      "\u001b[A\n",
      "\u001b[A\n",
      "\u001b[A\n",
      "\u001b[A\n",
      "\u001b[A\n",
      "\u001b[A\n",
      "\u001b[A\n",
      "\u001b[A\n",
      "\u001b[A\n",
      "\u001b[A\n",
      "\u001b[A\n",
      "\u001b[A\n",
      "\u001b[A\n",
      "\u001b[A\n",
      "\u001b[A\n",
      "\u001b[A\n",
      "\u001b[A\n",
      "\u001b[A\n",
      "\u001b[A\n",
      "\u001b[A\n",
      "\u001b[A\n",
      "\u001b[A\n",
      "100%|██████████| 1000/1000 [00:02<00:00, 355.89it/s]\n"
     ]
    },
    {
     "name": "stdout",
     "output_type": "stream",
     "text": [
      "iso\n",
      "psc\n",
      "bub\n",
      "pib\n"
     ]
    },
    {
     "name": "stderr",
     "output_type": "stream",
     "text": [
      "\n",
      "\u001b[A\n",
      "\u001b[A\n",
      "\u001b[A\n",
      "\u001b[A\n",
      "\u001b[A\n",
      "\u001b[A\n",
      "\u001b[A\n",
      "\u001b[A\n",
      "\u001b[A\n",
      "\u001b[A\n",
      "\u001b[A\n",
      "\u001b[A\n",
      "\u001b[A\n",
      "\u001b[A\n",
      "\u001b[A\n",
      "\u001b[A\n",
      "\u001b[A\n",
      "\u001b[A\n",
      "\u001b[A\n",
      "\u001b[A\n",
      "\u001b[A\n",
      "\u001b[A\n",
      "\u001b[A\n",
      "\u001b[A\n",
      "\u001b[A\n",
      "\u001b[A\n",
      "\u001b[A\n",
      "\u001b[A\n",
      "\u001b[A\n",
      "100%|██████████| 1000/1000 [00:03<00:00, 325.37it/s]\n"
     ]
    },
    {
     "name": "stdout",
     "output_type": "stream",
     "text": [
      "ics\n"
     ]
    },
    {
     "name": "stderr",
     "output_type": "stream",
     "text": [
      "\n",
      "\u001b[A\n",
      "\u001b[A\n",
      "\u001b[A\n",
      "\u001b[A\n",
      "\u001b[A\n",
      "\u001b[A\n",
      "\u001b[A\n",
      "\u001b[A\n",
      "\u001b[A\n",
      "\u001b[A\n",
      "\u001b[A\n",
      "\u001b[A\n",
      "\u001b[A\n",
      "\u001b[A\n",
      "\u001b[A\n",
      "\u001b[A\n",
      "\u001b[A\n",
      "\u001b[A\n",
      "\u001b[A\n",
      "\u001b[A\n",
      "\u001b[A\n",
      "\u001b[A\n",
      "\u001b[A\n",
      "\u001b[A\n",
      "\u001b[A\n",
      "\u001b[A\n",
      "\u001b[A\n",
      "100%|██████████| 1000/1000 [00:02<00:00, 346.29it/s]\n"
     ]
    },
    {
     "name": "stdout",
     "output_type": "stream",
     "text": [
      "iso\n",
      "psc\n",
      "bub\n",
      "pib\n"
     ]
    },
    {
     "name": "stderr",
     "output_type": "stream",
     "text": [
      "\n",
      "\u001b[A\n",
      "\u001b[A\n",
      "\u001b[A\n",
      "\u001b[A\n",
      "\u001b[A\n",
      "\u001b[A\n",
      "\u001b[A\n",
      "\u001b[A\n",
      "\u001b[A\n",
      "\u001b[A\n",
      "\u001b[A\n",
      "\u001b[A\n",
      "\u001b[A\n",
      "\u001b[A\n",
      "\u001b[A\n",
      "\u001b[A\n",
      "\u001b[A\n",
      "\u001b[A\n",
      "\u001b[A\n",
      "\u001b[A\n",
      "\u001b[A\n",
      "\u001b[A\n",
      "\u001b[A\n",
      "\u001b[A\n",
      "\u001b[A\n",
      "100%|██████████| 1000/1000 [00:02<00:00, 375.43it/s]\n"
     ]
    },
    {
     "name": "stdout",
     "output_type": "stream",
     "text": [
      "ics\n"
     ]
    },
    {
     "name": "stderr",
     "output_type": "stream",
     "text": [
      "\n",
      "\u001b[A\n",
      "\u001b[A\n",
      "\u001b[A\n",
      "\u001b[A\n",
      "\u001b[A\n",
      "\u001b[A\n",
      "\u001b[A\n",
      "\u001b[A\n",
      "\u001b[A\n",
      "\u001b[A\n",
      "\u001b[A\n",
      "\u001b[A\n",
      "\u001b[A\n",
      "\u001b[A\n",
      "\u001b[A\n",
      "\u001b[A\n",
      "\u001b[A\n",
      "\u001b[A\n",
      "\u001b[A\n",
      "\u001b[A\n",
      "\u001b[A\n",
      "\u001b[A\n",
      "\u001b[A\n",
      "\u001b[A\n",
      "\u001b[A\n",
      "100%|██████████| 1000/1000 [00:02<00:00, 373.72it/s]\n"
     ]
    },
    {
     "name": "stdout",
     "output_type": "stream",
     "text": [
      "iso\n",
      "psc\n",
      "bub\n",
      "pib\n"
     ]
    },
    {
     "name": "stderr",
     "output_type": "stream",
     "text": [
      "\n",
      "\u001b[A\n",
      "\u001b[A\n",
      "\u001b[A\n",
      "\u001b[A\n",
      "\u001b[A\n",
      "\u001b[A\n",
      "\u001b[A\n",
      "\u001b[A\n",
      "\u001b[A\n",
      "\u001b[A\n",
      "\u001b[A\n",
      "\u001b[A\n",
      "\u001b[A\n",
      "\u001b[A\n",
      "\u001b[A\n",
      "\u001b[A\n",
      "\u001b[A\n",
      "\u001b[A\n",
      "\u001b[A\n",
      "\u001b[A\n",
      "\u001b[A\n",
      "\u001b[A\n",
      "\u001b[A\n",
      "\u001b[A\n",
      "\u001b[A\n",
      "\u001b[A\n",
      "100%|██████████| 1000/1000 [00:02<00:00, 360.10it/s]\n"
     ]
    },
    {
     "name": "stdout",
     "output_type": "stream",
     "text": [
      "ics\n"
     ]
    },
    {
     "name": "stderr",
     "output_type": "stream",
     "text": [
      "\n",
      "\u001b[A\n",
      "\u001b[A\n",
      "\u001b[A\n",
      "\u001b[A\n",
      "\u001b[A\n",
      "\u001b[A\n",
      "\u001b[A\n",
      "\u001b[A\n",
      "\u001b[A\n",
      "\u001b[A\n",
      "\u001b[A\n",
      "\u001b[A\n",
      "\u001b[A\n",
      "\u001b[A\n",
      "\u001b[A\n",
      "\u001b[A\n",
      "\u001b[A\n",
      "\u001b[A\n",
      "\u001b[A\n",
      "\u001b[A\n",
      "\u001b[A\n",
      "\u001b[A\n",
      "\u001b[A\n",
      "\u001b[A\n",
      "100%|██████████| 1000/1000 [00:02<00:00, 379.44it/s]\n",
      "sim_seeds: 100%|██████████| 4/4 [00:23<00:00,  5.91s/it]\n",
      "svi_seeds: 100%|██████████| 1/1 [00:23<00:00, 23.64s/it]\n"
     ]
    }
   ],
   "source": [
    "temp_names_sim = rig_temp_sim + hyb_temp_sim + var_temp_sim # imported from settings file\n",
    "\n",
    "temp_sample_dict_svi_sim = []\n",
    "\n",
    "# NOTE: Indices now don't track the IDs. So, you need to keep track of the indices\n",
    "Ncs = len(svi_seeds)\n",
    "Ncr = len(sim_seeds)\n",
    "for ns in tqdm(range(Ncs), desc = 'svi_seeds'):\n",
    "    temp_sample_dict_sim = []\n",
    "    for nr in tqdm(range(Ncr), desc = 'sim_seeds'):\n",
    "        samples = samples_svi_sim[ns][nr]\n",
    "        # gp_samples = gp_samples_svi_sim[ns][nr]\n",
    "        temp_sample_dict = ef.generate_temp_sample_maps(samples, ebinmodel, gp_samples = None, custom_num=1000, nfw_gamma=nfw_gamma)\n",
    "        temp_sample_dict_sim.append(temp_sample_dict)\n",
    "    temp_sample_dict_svi_sim.append(temp_sample_dict_sim)"
   ]
  },
  {
   "cell_type": "code",
   "execution_count": 12,
   "metadata": {},
   "outputs": [
    {
     "name": "stderr",
     "output_type": "stream",
     "text": [
      "svi_seeds:   0%|          | 0/1 [00:00<?, ?it/s]"
     ]
    },
    {
     "name": "stderr",
     "output_type": "stream",
     "text": [
      "sim_seeds: 100%|██████████| 4/4 [00:00<00:00,  6.19it/s]\n",
      "svi_seeds: 100%|██████████| 1/1 [00:00<00:00,  1.54it/s]\n"
     ]
    },
    {
     "data": {
      "image/png": "[encoded data removed]",
      "text/plain": [
       "<Figure size 1440x720 with 1 Axes>"
      ]
     },
     "metadata": {},
     "output_type": "display_data"
    }
   ],
   "source": [
    "fig = plt.figure(figsize=(12, 6), dpi= 120)\n",
    "ax = fig.add_subplot(111)\n",
    "\n",
    "bins = np.linspace(1.4,4.4,100)\n",
    "alpha = 0.2\n",
    "histtype = 'stepfilled'\n",
    "\n",
    "all_temp_names = ['iso', 'psc', 'bub', 'pib', 'ics', 'blg', 'gp', 'nfw', 'dsk']\n",
    "ccodes = ['C0', 'C1', 'C2', 'C3', 'C4', 'C5', 'C5', 'C6', 'C7']\n",
    "names = list(temp_sample_dict.keys())\n",
    "ordered_names = [name for name in all_temp_names if name in names]\n",
    "\n",
    "Ncs = len(svi_seeds)\n",
    "Ncr = len(sim_seeds)\n",
    "c = 0\n",
    "for ns in tqdm(range(Ncs), desc = 'svi_seeds'):\n",
    "    for nr in tqdm(range(Ncr), desc = 'sim_seeds'):\n",
    "        temp_sample_dict = temp_sample_dict_svi_sim[ns][nr]\n",
    "        for k in range(len(ordered_names)):\n",
    "            name = ordered_names[k]\n",
    "            idx = all_temp_names.index(name)\n",
    "            ccode = ccodes[idx]\n",
    "            # if name == 'gp':\n",
    "            #     temp_sum = jnp.exp(temp_sample_dict[name]).sum(axis = 1) # sum over spatial bins\n",
    "            #     ax.hist(np.log10(temp_sum), bins = bins, alpha = 0.75, label = name, density = True, histtype = 'step', color = ccode)\n",
    "            # else:\n",
    "            temp_sum = temp_sample_dict[name].sum(axis = 1) # sum over spatial bins\n",
    "            if c == 0:\n",
    "                ax.hist(np.log10(temp_sum), bins = bins, alpha = alpha, label = name, density = True, histtype = histtype, color = ccode)\n",
    "            else:\n",
    "                ax.hist(np.log10(temp_sum), bins = bins, alpha = alpha, density = True, histtype = histtype, color = ccode)\n",
    "\n",
    "        if temp_dict is not None:\n",
    "            names_sim = temp_names_sim # this piece is provided by the \"settings\" file since we only save a dictionary with all the fit parameters\n",
    "            ordered_names_sim = [name for name in all_temp_names if name in names_sim]\n",
    "            for k in range(len(ordered_names_sim)):\n",
    "                name = ordered_names_sim[k]\n",
    "                idx = all_temp_names.index(name)\n",
    "                ccode = ccodes[idx]\n",
    "                temp_sum_sim = temp_dict[name].sum(axis = 0)\n",
    "                ax.axvline(np.log10(temp_sum_sim), linestyle='--', c = ccode)\n",
    "        c += 1\n",
    "        \n",
    "        ax.legend()\n",
    "        ax.set_xlabel(r'$\\log_{10}(\\mathrm{counts})$')\n",
    "        ax.set_ylabel(r'$\\mathrm{density}$')\n",
    "        ax.set_title(r'$\\mathrm{Counts\\ in\\ Unmasked\\ Region}$')"
   ]
  },
  {
   "cell_type": "code",
   "execution_count": 33,
   "metadata": {},
   "outputs": [
    {
     "name": "stderr",
     "output_type": "stream",
     "text": [
      "sim_seeds:   0%|          | 0/10 [00:00<?, ?it/s]\n",
      "svi_seeds:   0%|          | 0/1 [00:00<?, ?it/s]\n"
     ]
    },
    {
     "ename": "NameError",
     "evalue": "name 'gp_samples_svi_sim' is not defined",
     "output_type": "error",
     "traceback": [
      "\u001b[0;31m---------------------------------------------------------------------------\u001b[0m",
      "\u001b[0;31mNameError\u001b[0m                                 Traceback (most recent call last)",
      "Cell \u001b[0;32mIn[33], line 5\u001b[0m\n\u001b[1;32m      3\u001b[0m sum_gp_samples_sim \u001b[38;5;241m=\u001b[39m []\n\u001b[1;32m      4\u001b[0m \u001b[38;5;28;01mfor\u001b[39;00m nr \u001b[38;5;129;01min\u001b[39;00m tqdm(sim_seeds, desc \u001b[38;5;241m=\u001b[39m \u001b[38;5;124m'\u001b[39m\u001b[38;5;124msim_seeds\u001b[39m\u001b[38;5;124m'\u001b[39m):\n\u001b[0;32m----> 5\u001b[0m     sum_gp_samples_sim\u001b[38;5;241m.\u001b[39mappend(jnp\u001b[38;5;241m.\u001b[39mexp(\u001b[43mgp_samples_svi_sim\u001b[49m[ns][nr])\u001b[38;5;241m.\u001b[39msum(axis \u001b[38;5;241m=\u001b[39m \u001b[38;5;241m1\u001b[39m))\n\u001b[1;32m      6\u001b[0m sum_gp_samples_svi_sim\u001b[38;5;241m.\u001b[39mappend(sum_gp_samples_sim)\n",
      "\u001b[0;31mNameError\u001b[0m: name 'gp_samples_svi_sim' is not defined"
     ]
    }
   ],
   "source": [
    "sum_gp_samples_svi_sim = []\n",
    "for ns in tqdm(svi_seeds, desc = 'svi_seeds'):\n",
    "    sum_gp_samples_sim = []\n",
    "    for nr in tqdm(sim_seeds, desc = 'sim_seeds'):\n",
    "        sum_gp_samples_sim.append(jnp.exp(gp_samples_svi_sim[ns][nr]).sum(axis = 1))\n",
    "    sum_gp_samples_svi_sim.append(sum_gp_samples_sim)"
   ]
  },
  {
   "cell_type": "code",
   "execution_count": 21,
   "metadata": {},
   "outputs": [
    {
     "name": "stdout",
     "output_type": "stream",
     "text": [
      "[37042.05  37394.523 36659.703 38262.113 37035.773 37522.824 38295.477\n",
      " 37263.68  38953.207 37943.04  37436.43  35760.25  36461.402 37481.547\n",
      " 37672.688 38627.312 35932.184 37379.49  38358.156 37228.977 36521.36\n",
      " 39143.023 35737.336 38266.53  40100.926 37638.33  39345.18  37033.266\n",
      " 37264.73  38079.71  35979.848 38451.82  38181.375 38166.39  34754.453\n",
      " 36961.223 36271.457 38367.47  36850.75  38101.535 37883.406 37809.188\n",
      " 39575.64  38815.45  39067.29  37562.32  37466.45  40104.84  40450.074\n",
      " 37490.367 36342.645 36927.914 37296.613 37075.04  39188.28  36392.117\n",
      " 37137.145 37232.56  38935.055 36628.168 39618.727 38413.484 37312.32\n",
      " 37615.406 40046.17  37379.24  36758.58  38681.367 37576.984 38204.18\n",
      " 38954.71  37975.047 37142.43  39127.938 37206.14  36437.59  38267.867\n",
      " 37713.668 37919.703 36482.656 39787.906 37748.613 37926.07  37941.984\n",
      " 38979.96  34722.805 37177.715 36699.47  35963.695 37680.04  37913.\n",
      " 38438.16  40228.715 36004.617 36158.83  40558.566 40506.125 38990.414\n",
      " 35132.164 37359.42  38548.844 39886.285 37882.7   34281.81  35987.625\n",
      " 36255.76  37119.086 38115.875 38102.43  40025.54  39308.75  36688.57\n",
      " 34686.03  36062.7   35925.816 39500.945 36305.195 39451.08  39562.53\n",
      " 35914.016 37598.13  36650.95  34892.684 39124.92  38984.    36194.55\n",
      " 38481.96  39825.8   35996.406 34877.406 37895.35  37169.25  37953.586\n",
      " 35734.12  38053.75  39156.07  43712.547 39483.547 37205.812 36511.414\n",
      " 41386.848 35919.566 35955.586 38547.227 37013.47  39292.44  39479.84\n",
      " 34750.918 36311.61  38016.438 41267.883 37377.332 35942.06  38087.617\n",
      " 39808.05  37751.195 39889.133 35941.594 39401.    35472.766 37797.33\n",
      " 38666.68  35789.15  33633.156 38895.844 37288.82  35957.535 39348.75\n",
      " 35191.242 36917.93  39118.25  38933.31  38026.97  37430.586 36360.816\n",
      " 37363.008 37171.363 38849.414 36799.945 37927.035 39764.63  37916.438\n",
      " 38905.02  37391.03  37591.46  35683.29  40088.492 35525.86  37776.156\n",
      " 38586.137 38030.7   35105.812 39971.426 38489.145 37059.535 36789.746\n",
      " 36996.93  40877.24  36006.996 35521.316 36544.242 38557.46  37017.54\n",
      " 39268.656 35322.55  37592.35  38839.9   35803.4   36233.69  36867.656\n",
      " 36027.414 36434.797 39902.332 37993.03  37397.227 39445.93  36833.367\n",
      " 37102.742 40049.617 37883.305 37316.36  38404.227 36512.04  37012.633\n",
      " 37943.203 38136.1   35309.023 40171.605 36850.82  37356.92  37664.97\n",
      " 34886.684 38079.992 38025.32  37887.188 37081.58  38796.074 39582.21\n",
      " 36077.734 37320.945 42247.2   37201.375 35777.99  36477.633 41440.426\n",
      " 37680.113 39400.285 38768.97  38689.83  36637.88  37813.668 37497.234\n",
      " 37212.18  38655.25  39113.383 35743.945 36312.68  37508.29  37453.78\n",
      " 38930.297 37711.24  36490.375 38673.99  37416.19  38378.25  38791.914\n",
      " 40331.812 37992.965 37470.016 37876.258 35608.695 37082.953 38696.008\n",
      " 37417.227 38021.656 40155.188 37369.24  39516.89  35369.555 39338.848\n",
      " 39172.35  41793.72  38896.844 33924.656 35450.664 37369.75  38976.67\n",
      " 36772.582 39772.297 34267.03  37982.062 37637.15  38400.92  39098.938\n",
      " 36755.55  38066.043 36871.93  40220.86  38190.387 33954.223 38025.508\n",
      " 36789.04  36947.04  38469.42  38865.938 37389.816 36786.383 38787.945\n",
      " 37247.72  38909.688 37179.195 38091.812 38290.055 36206.6   39618.65\n",
      " 36280.766 36666.688 40190.42  36533.54  38634.74  39041.13  38320.16\n",
      " 34418.836 34810.938 40471.223 35988.76  37395.11  40994.918 38859.33\n",
      " 35596.56  35614.277 37609.867 38919.184 37818.082 39393.145 39018.21\n",
      " 39446.562 35345.492 37457.227 37568.785 38455.33  38370.695 36669.707\n",
      " 37657.902 37333.39  39388.727 37070.92  38203.59  38501.438 36770.344\n",
      " 37575.004 40896.773 38188.164 36349.324 39220.12  35912.797 37982.03\n",
      " 37661.805 36322.008 37687.094 38187.125 36098.613 36996.625 38776.133\n",
      " 35499.57  38390.54  37082.375 37198.07  37686.258 37318.42  34597.188\n",
      " 36742.477 38062.227 37134.64  36411.062 33634.008 37675.984 34390.285\n",
      " 39453.49  37601.85  42011.5   41435.89  34716.527 36584.94  37845.938\n",
      " 37435.297 35732.332 38875.516 38452.016 39025.88  36262.914 36856.43\n",
      " 35434.953 34890.76  38061.76  38886.    41126.42  39138.96  37479.457\n",
      " 38000.305 37825.227 39240.516 35879.094 40023.695 35803.098 38908.504\n",
      " 37219.523 36363.97  38969.71  40543.492 37350.504 36865.44  36838.37\n",
      " 34466.902 37974.973 36082.633 36689.465 37603.207 38616.477 39049.824\n",
      " 40849.08  37557.953 36839.08  35804.348 38481.266 37276.22  35264.965\n",
      " 36373.05  37329.492 36050.297 39672.992 38805.652 39782.09  34740.664\n",
      " 39981.203 35798.82  39349.785 37770.133 38958.992 38307.086 40791.723\n",
      " 37603.195 39075.234 39048.734 37830.527 38327.6   36842.973 36820.39\n",
      " 38160.79  35880.617 36046.707 37998.09  39209.91  38422.105 38334.773\n",
      " 38487.04  36367.395 36864.434 37576.82  37937.72  37469.75  36318.04\n",
      " 35931.51  39813.33  38416.824 37685.438 40705.254 38419.1   39179.688\n",
      " 38543.85  38463.953 38320.03  38470.445 34601.273 36015.25  38844.188\n",
      " 35892.402 38653.21  38139.066 37511.094 36526.22  36757.402 36067.266\n",
      " 38989.652 38274.367 42455.96  35972.89  38703.83  38034.254 40331.113\n",
      " 38224.67  38358.242 37960.785 37349.906 34951.85  36183.508 38528.582\n",
      " 36744.055 39419.39  40926.965 37083.17  35617.75  36738.812 36113.062\n",
      " 37911.516 37151.742 38589.797 38776.21  39815.098 38358.543 37757.984\n",
      " 38009.938 37386.156 35307.59  39224.68  37262.11  36035.195 37796.227\n",
      " 34508.406 40472.336 37230.484 35140.15  35934.35  38693.402 42131.402\n",
      " 36564.695 37150.83  38129.945 36452.914 37606.688 38639.188 38030.1\n",
      " 35870.086 36775.703 39670.023 39590.996 40266.97  36388.83  37455.195\n",
      " 39205.996 39197.742 35828.562 37808.836 35443.47  37059.805 37609.164\n",
      " 37348.766 36787.547 36155.53  36409.547 37273.742 35700.766 37639.22\n",
      " 37774.184 36721.094 39528.312 37627.977 37329.543 37831.984 37640.047\n",
      " 34822.4   37292.453 39860.117 36782.805 36540.547 40043.164 38030.65\n",
      " 36741.42  38456.09  38659.59  36311.4   37661.586 35145.453 36692.63\n",
      " 34311.645 37742.73  39884.53  37270.62  39693.26  36744.02  36181.082\n",
      " 36860.64  36000.68  36836.363 36641.445 37973.113 37928.25  36764.35\n",
      " 39449.71  37868.85  37288.37  37957.195 39146.934 38223.43  36081.645\n",
      " 39589.754 36101.45  38609.156 35641.99  39047.516 37808.277 35454.688\n",
      " 38852.977 38122.375 40097.617 39278.273 39255.695 36792.35  36870.39\n",
      " 40798.66  39423.656 38448.906 37019.145 39751.336 37534.562 36853.516\n",
      " 36898.766 39217.18  36611.02  35961.098 36044.33  35552.027 38055.97\n",
      " 38046.645 36820.22  35574.96  40275.97  36729.42  37394.    35498.6\n",
      " 37793.6   36617.07  38453.82  36521.492 36688.094 38685.414 36342.312\n",
      " 39868.047 38494.617 39070.555 37738.547 37330.15  36746.883 36664.227\n",
      " 36945.395 36934.48  37416.812 35754.586 36743.684 38136.656 39330.312\n",
      " 38726.53  39838.99  40456.758 35119.938 37856.62  35222.77  38427.54\n",
      " 38951.    39608.15  37370.258 35884.1   36489.594 39049.305 37404.87\n",
      " 37618.21  37232.805 37702.074 39865.93  39039.08  38107.492 36968.805\n",
      " 38178.023 35256.58  37349.508 38878.23  38520.48  37209.03  38078.79\n",
      " 38928.15  36586.65  39266.867 36304.55  39040.22  38991.41  38506.15\n",
      " 38233.03  39674.01  36940.297 40438.297 38578.176 39080.734 36857.96\n",
      " 39033.598 36144.484 37147.58  39409.51  39405.77  38718.977 36204.86\n",
      " 39115.793 37897.85  36703.156 37514.42  38733.9   39501.68  36085.85\n",
      " 39537.906 38929.508 37441.93  39210.062 36584.355 34900.973 36362.84\n",
      " 38845.867 37309.04  37339.61  38121.09  38617.14  37294.977 37612.72\n",
      " 39373.812 34566.953 35290.688 40209.625 38559.664 39460.945 38072.14\n",
      " 36458.91  35911.13  38994.574 41303.45  39190.92  39919.996 37513.566\n",
      " 39254.637 39133.46  36493.145 38456.188 36781.836 34742.844 38472.875\n",
      " 39871.043 37722.7   34900.09  36514.83  33757.406 36360.004 38230.332\n",
      " 38835.97  35859.844 37700.92  36023.434 35914.117 37407.35  38726.477\n",
      " 39477.4   36906.336 37852.7   37375.12  38061.14  39102.258 36451.42\n",
      " 37841.703 36186.367 40598.348 35886.25  36245.234 36004.46  38809.89\n",
      " 38261.734 40007.312 35434.008 37138.22  36785.234 38044.28  38376.277\n",
      " 36138.656 38378.53  36380.367 38794.875 38668.11  36742.22  38945.906\n",
      " 36296.207 36902.85  38034.047 40168.066 34916.36  40537.625 39189.15\n",
      " 41768.336 38984.67  41738.637 37534.383 38582.96  37796.617 37219.688\n",
      " 36172.812 38948.66  39795.938 37933.086 34514.68  33764.914 40434.477\n",
      " 37413.906 36244.227 39320.195 36482.535 37863.42  34825.516 38242.508\n",
      " 35786.633 34757.28  36971.336 39147.727 37636.54  37565.273 34941.477\n",
      " 38710.35  36631.977 36249.688 35500.914 37129.5   35075.527 38862.156\n",
      " 38093.926 38190.492 37067.938 40251.22  35414.703 36921.023 37004.996\n",
      " 36938.996 35748.71  39694.203 36173.312 38162.926 35129.17  39813.984\n",
      " 37798.316 36311.848 37410.89  38107.605 35253.094 38635.41  37239.21\n",
      " 39006.547 38018.57  36107.74  37908.92  36135.266 36832.29  38808.71\n",
      " 37377.867 39219.734 38094.863 41399.117 37476.688 39831.414 39937.234\n",
      " 38550.53  36120.047 36515.664 39020.01  34707.52  35143.92  39916.746\n",
      " 38157.758 41550.08  38641.266 37418.734 36792.914 39739.29  35616.477\n",
      " 40865.945 41362.273 39852.914 39060.797 40922.637 39136.164 36784.574\n",
      " 37615.723 36927.992 37963.797 40120.78  36283.703 37278.137 40311.727\n",
      " 39037.574 36511.047 41729.344 39751.81  35046.773 38097.023 34771.375\n",
      " 40193.16  39774.223 37295.64  40113.992 35525.047 36457.93  37027.91\n",
      " 37267.58  36564.402 39503.906 38910.797 38993.57  39112.426 38267.43\n",
      " 38917.566 37053.37  33814.863 37236.43  36930.992 39146.234 38736.152\n",
      " 36576.887 39989.51  36451.89  37260.047 36095.98  35846.254 37774.766\n",
      " 42907.164 35790.703 39119.887 37608.582 39083.703 36511.742 37992.902\n",
      " 38464.652 37613.438 38417.766 40340.016 39554.758 38835.42  36684.145\n",
      " 37374.934 38702.18  38834.33  35307.64  35442.715 34934.586 37137.586\n",
      " 39898.363 37370.94  37116.72  39328.016 38526.83  37370.07  36943.875\n",
      " 40036.645 37924.914 35360.504 38930.957 38333.938 37742.29  40247.656\n",
      " 38874.68  38774.832 37203.16  39145.15  38260.953 35532.48  38233.79\n",
      " 36931.688 40656.58  36956.28  38345.11  36626.098 37912.34  35848.984\n",
      " 36618.508 40374.4   37431.52  35089.66  37255.78  36480.055 37054.652\n",
      " 37716.33  36588.    35920.97  38471.17  36322.316 37404.504 36140.125\n",
      " 39058.97  39324.    38656.4   38034.016 37011.297 36037.094 37154.164\n",
      " 37392.41  38642.65  37033.867 37130.1   35573.105 37594.86 ]\n"
     ]
    }
   ],
   "source": [
    "print(sum_gp_samples_svi_sim[0][0])"
   ]
  },
  {
   "cell_type": "code",
   "execution_count": 22,
   "metadata": {},
   "outputs": [
    {
     "name": "stderr",
     "output_type": "stream",
     "text": [
      "sim_seeds: 100%|██████████| 10/10 [00:00<00:00, 1169.18it/s]\n",
      "sim_seeds: 100%|██████████| 10/10 [00:00<00:00, 1292.50it/s]\n",
      "sim_seeds: 100%|██████████| 10/10 [00:00<00:00, 1368.41it/s]\n"
     ]
    },
    {
     "name": "stderr",
     "output_type": "stream",
     "text": [
      "sim_seeds: 100%|██████████| 10/10 [00:00<00:00, 1098.76it/s]\n",
      "\n",
      "sim_seeds: 100%|██████████| 10/10 [00:00<00:00, 1466.54it/s]\n",
      "sim_seeds: 100%|██████████| 10/10 [00:00<00:00, 1425.08it/s]\n",
      "sim_seeds: 100%|██████████| 10/10 [00:00<00:00, 1446.16it/s]\n",
      "sim_seeds: 100%|██████████| 10/10 [00:00<00:00, 1306.51it/s]\n",
      "sim_seeds: 100%|██████████| 10/10 [00:00<00:00, 1567.32it/s]\n",
      "sim_seeds: 100%|██████████| 10/10 [00:00<00:00, 1654.04it/s]\n",
      "svi_seeds: 100%|██████████| 10/10 [00:00<00:00, 88.24it/s]\n"
     ]
    }
   ],
   "source": [
    "for ns in tqdm(svi_seeds, desc = 'svi_seeds'):\n",
    "    for nr in tqdm(sim_seeds, desc = 'sim_seeds'):\n",
    "        if np.isnan(sum_gp_samples_svi_sim[ns][nr][0]):\n",
    "            print(ns, nr)"
   ]
  },
  {
   "cell_type": "code",
   "execution_count": 23,
   "metadata": {},
   "outputs": [
    {
     "name": "stderr",
     "output_type": "stream",
     "text": [
      "sim_seeds: 100%|██████████| 10/10 [00:01<00:00,  7.28it/s]\n",
      "sim_seeds: 100%|██████████| 10/10 [00:01<00:00,  7.55it/s]\n",
      "sim_seeds: 100%|██████████| 10/10 [00:01<00:00,  8.15it/s]\n",
      "sim_seeds: 100%|██████████| 10/10 [00:01<00:00,  8.07it/s]\n",
      "sim_seeds: 100%|██████████| 10/10 [00:01<00:00,  8.12it/s]\n",
      "sim_seeds: 100%|██████████| 10/10 [00:01<00:00,  8.10it/s]\n",
      "sim_seeds: 100%|██████████| 10/10 [00:01<00:00,  8.06it/s]\n",
      "sim_seeds: 100%|██████████| 10/10 [00:01<00:00,  8.58it/s]\n",
      "sim_seeds: 100%|██████████| 10/10 [00:01<00:00,  8.55it/s]\n",
      "sim_seeds: 100%|██████████| 10/10 [00:01<00:00,  7.99it/s]\n",
      "svi_seeds: 100%|██████████| 10/10 [00:12<00:00,  1.25s/it]\n"
     ]
    },
    {
     "data": {
      "text/plain": [
       "Text(0, 0.5, '$\\\\mathrm{Density}$')"
      ]
     },
     "execution_count": 23,
     "metadata": {},
     "output_type": "execute_result"
    },
    {
     "data": {
      "image/png": "[encoded data removed]",
      "text/plain": [
       "<Figure size 960x720 with 1 Axes>"
      ]
     },
     "metadata": {},
     "output_type": "display_data"
    }
   ],
   "source": [
    "fig = plt.figure(figsize = (8,6))\n",
    "ax = fig.add_subplot(111)\n",
    "for ns in tqdm(svi_seeds, desc = 'svi_seeds'):\n",
    "    for nr in tqdm(sim_seeds, desc = 'sim_seeds'):\n",
    "        if np.isnan(sum_gp_samples_svi_sim[ns][nr][0]):\n",
    "            continue\n",
    "        else:\n",
    "            ax.hist(jnp.log10(sum_gp_samples_svi_sim[ns][nr]), np.linspace(4.4,4.8,40), alpha = 0.05, color = 'C0', density = True)\n",
    "ax.axvline(jnp.log10(temp_dict['blg'].sum()), lw = 1, c = 'b', ls = '--')\n",
    "ax.set_xlabel(r'$\\log_{10}(\\mathrm{GP\\,Sum})$')\n",
    "ax.set_ylabel(r'$\\mathrm{Density}$')"
   ]
  },
  {
   "cell_type": "code",
   "execution_count": 18,
   "metadata": {},
   "outputs": [
    {
     "name": "stderr",
     "output_type": "stream",
     "text": [
      "sim_seeds: 100%|██████████| 10/10 [00:01<00:00,  7.64it/s]\n",
      "svi_seeds: 100%|██████████| 1/1 [00:01<00:00,  1.31s/it]\n"
     ]
    },
    {
     "data": {
      "text/plain": [
       "Text(0, 0.5, '$\\\\mathrm{Density}$')"
      ]
     },
     "execution_count": 18,
     "metadata": {},
     "output_type": "execute_result"
    },
    {
     "data": {
      "image/png": "[encoded data removed]",
      "text/plain": [
       "<Figure size 960x720 with 1 Axes>"
      ]
     },
     "metadata": {},
     "output_type": "display_data"
    }
   ],
   "source": [
    "c_sim_seeds = np.arange(10)\n",
    "c_svi_seeds = [5]\n",
    "\n",
    "fig = plt.figure(figsize = (8,6))\n",
    "ax = fig.add_subplot(111)\n",
    "for ns in tqdm(c_svi_seeds, desc = 'svi_seeds'):\n",
    "    for nr in tqdm(c_sim_seeds, desc = 'sim_seeds'):\n",
    "        if np.isnan(sum_gp_samples_svi_sim[ns][nr][0]):\n",
    "            continue\n",
    "        else:\n",
    "            ax.hist(jnp.log10(sum_gp_samples_svi_sim[ns][nr]), np.linspace(4.4,4.8,40), alpha = 0.2, color = 'C0', density = True)\n",
    "ax.axvline(jnp.log10(temp_dict['blg'].sum()), lw = 1, c = 'b', ls = '--')\n",
    "ax.set_xlabel(r'$\\log_{10}(\\mathrm{GP\\,Sum})$')\n",
    "ax.set_ylabel(r'$\\mathrm{Density}$')"
   ]
  },
  {
   "cell_type": "code",
   "execution_count": 24,
   "metadata": {},
   "outputs": [],
   "source": [
    "from models.poissonian_ed_100 import EbinPoissonModel # to set GPU at the beginning\n",
    "\n",
    "ebinmodel = EbinPoissonModel(\n",
    "        # all parameters\n",
    "        rig_temp_list = rig_temp_list,\n",
    "        hyb_temp_list = hyb_temp_list,\n",
    "        var_temp_list = var_temp_list,\n",
    "        is_gp = is_gp,\n",
    "        gp_deriv = gp_deriv,\n",
    "        data_file = data_file,\n",
    "        rig_temp_sim = rig_temp_sim,\n",
    "        hyb_temp_sim = hyb_temp_sim,\n",
    "        var_temp_sim = var_temp_sim,\n",
    "        is_custom_blg= is_custom_blg,\n",
    "        custom_blg_id = custom_blg_id,\n",
    "        sim_seed = sim_seed,\n",
    "        Nu = Nu,\n",
    "        u_option = u_option,\n",
    "        u_grid_type = u_grid_type,\n",
    "        u_weights = u_weights,\n",
    "        Np = Np,\n",
    "        p_option = p_option,\n",
    "        Nsub = Nsub,\n",
    "        ebin = ebin,\n",
    "        is_float64 = is_float64,\n",
    "        debug_nans = debug_nans,\n",
    "        no_ps_mask = no_ps_mask,\n",
    "        p_grid_type = p_grid_type,\n",
    "        p_weights = p_weights,\n",
    "        gp_kernel = gp_kernel,\n",
    "        gp_params = gp_params,\n",
    "        gp_scale_option = gp_scale_option,\n",
    "        monotonicity_hyperparameter = monotonicity_hyperparameter,\n",
    "        )\n",
    "ebinmodel.config_model(ebin=ebin)"
   ]
  },
  {
   "cell_type": "code",
   "execution_count": 41,
   "metadata": {},
   "outputs": [
    {
     "name": "stderr",
     "output_type": "stream",
     "text": [
      "svi_seeds:   0%|          | 0/1 [00:00<?, ?it/s]"
     ]
    },
    {
     "name": "stdout",
     "output_type": "stream",
     "text": [
      "iso\n",
      "psc\n",
      "bub\n",
      "pib\n"
     ]
    },
    {
     "name": "stderr",
     "output_type": "stream",
     "text": [
      "\n",
      "\n",
      "\u001b[A\u001b[A\n",
      "\n",
      "\u001b[A\u001b[A\n",
      "\n",
      "\u001b[A\u001b[A\n",
      "\n",
      "\u001b[A\u001b[A\n",
      "\n",
      "\u001b[A\u001b[A\n",
      "\n",
      "\u001b[A\u001b[A\n",
      "\n",
      "\u001b[A\u001b[A\n",
      "\n",
      "\u001b[A\u001b[A\n",
      "\n",
      "\u001b[A\u001b[A\n",
      "\n",
      "\u001b[A\u001b[A\n",
      "\n",
      "\u001b[A\u001b[A\n",
      "\n",
      "100%|██████████| 1000/1000 [00:01<00:00, 842.43it/s]\n"
     ]
    },
    {
     "name": "stdout",
     "output_type": "stream",
     "text": [
      "ics\n"
     ]
    },
    {
     "name": "stderr",
     "output_type": "stream",
     "text": [
      "\n",
      "\n",
      "\u001b[A\u001b[A\n",
      "\n",
      "\u001b[A\u001b[A\n",
      "\n",
      "\u001b[A\u001b[A\n",
      "\n",
      "\u001b[A\u001b[A\n",
      "\n",
      "\u001b[A\u001b[A\n",
      "\n",
      "\u001b[A\u001b[A\n",
      "\n",
      "\u001b[A\u001b[A\n",
      "\n",
      "\u001b[A\u001b[A\n",
      "\n",
      "\u001b[A\u001b[A\n",
      "\n",
      "\u001b[A\u001b[A\n",
      "\n",
      "\u001b[A\u001b[A\n",
      "\n",
      "100%|██████████| 1000/1000 [00:01<00:00, 850.50it/s]\n"
     ]
    },
    {
     "name": "stdout",
     "output_type": "stream",
     "text": [
      "iso\n",
      "psc\n",
      "bub\n",
      "pib\n"
     ]
    },
    {
     "name": "stderr",
     "output_type": "stream",
     "text": [
      "\n",
      "\n",
      "\u001b[A\u001b[A\n",
      "\n",
      "\u001b[A\u001b[A\n",
      "\n",
      "\u001b[A\u001b[A\n",
      "\n",
      "\u001b[A\u001b[A\n",
      "\n",
      "\u001b[A\u001b[A\n",
      "\n",
      "\u001b[A\u001b[A\n",
      "\n",
      "\u001b[A\u001b[A\n",
      "\n",
      "\u001b[A\u001b[A\n",
      "\n",
      "\u001b[A\u001b[A\n",
      "\n",
      "\u001b[A\u001b[A\n",
      "\n",
      "\u001b[A\u001b[A\n",
      "\n",
      "100%|██████████| 1000/1000 [00:01<00:00, 889.03it/s]\n"
     ]
    },
    {
     "name": "stdout",
     "output_type": "stream",
     "text": [
      "ics\n"
     ]
    },
    {
     "name": "stderr",
     "output_type": "stream",
     "text": [
      "\n",
      "\n",
      "\u001b[A\u001b[A\n",
      "\n",
      "\u001b[A\u001b[A\n",
      "\n",
      "\u001b[A\u001b[A\n",
      "\n",
      "\u001b[A\u001b[A\n",
      "\n",
      "\u001b[A\u001b[A\n",
      "\n",
      "\u001b[A\u001b[A\n",
      "\n",
      "\u001b[A\u001b[A\n",
      "\n",
      "\u001b[A\u001b[A\n",
      "\n",
      "\u001b[A\u001b[A\n",
      "\n",
      "\u001b[A\u001b[A\n",
      "\n",
      "\u001b[A\u001b[A\n",
      "\n",
      "100%|██████████| 1000/1000 [00:01<00:00, 865.08it/s]\n"
     ]
    },
    {
     "name": "stdout",
     "output_type": "stream",
     "text": [
      "iso\n",
      "psc\n",
      "bub\n",
      "pib\n"
     ]
    },
    {
     "name": "stderr",
     "output_type": "stream",
     "text": [
      "\n",
      "\n",
      "\u001b[A\u001b[A\n",
      "\n",
      "\u001b[A\u001b[A\n",
      "\n",
      "\u001b[A\u001b[A\n",
      "\n",
      "\u001b[A\u001b[A\n",
      "\n",
      "\u001b[A\u001b[A\n",
      "\n",
      "\u001b[A\u001b[A\n",
      "\n",
      "\u001b[A\u001b[A\n",
      "\n",
      "\u001b[A\u001b[A\n",
      "\n",
      "\u001b[A\u001b[A\n",
      "\n",
      "\u001b[A\u001b[A\n",
      "\n",
      "\u001b[A\u001b[A\n",
      "\n",
      "100%|██████████| 1000/1000 [00:01<00:00, 849.55it/s]\n"
     ]
    },
    {
     "name": "stdout",
     "output_type": "stream",
     "text": [
      "ics\n"
     ]
    },
    {
     "name": "stderr",
     "output_type": "stream",
     "text": [
      "\n",
      "\n",
      "\u001b[A\u001b[A\n",
      "\n",
      "\u001b[A\u001b[A\n",
      "\n",
      "\u001b[A\u001b[A\n",
      "\n",
      "\u001b[A\u001b[A\n",
      "\n",
      "\u001b[A\u001b[A\n",
      "\n",
      "\u001b[A\u001b[A\n",
      "\n",
      "\u001b[A\u001b[A\n",
      "\n",
      "\u001b[A\u001b[A\n",
      "\n",
      "\u001b[A\u001b[A\n",
      "\n",
      "\u001b[A\u001b[A\n",
      "\n",
      "100%|██████████| 1000/1000 [00:01<00:00, 920.20it/s]\n"
     ]
    },
    {
     "name": "stdout",
     "output_type": "stream",
     "text": [
      "iso\n",
      "psc\n",
      "bub\n",
      "pib\n"
     ]
    },
    {
     "name": "stderr",
     "output_type": "stream",
     "text": [
      "\n",
      "\n",
      "\u001b[A\u001b[A\n",
      "\n",
      "\u001b[A\u001b[A\n",
      "\n",
      "\u001b[A\u001b[A\n",
      "\n",
      "\u001b[A\u001b[A\n",
      "\n",
      "\u001b[A\u001b[A\n",
      "\n",
      "\u001b[A\u001b[A\n",
      "\n",
      "\u001b[A\u001b[A\n",
      "\n",
      "\u001b[A\u001b[A\n",
      "\n",
      "\u001b[A\u001b[A\n",
      "\n",
      "\u001b[A\u001b[A\n",
      "\n",
      "\u001b[A\u001b[A\n",
      "\n",
      "100%|██████████| 1000/1000 [00:01<00:00, 850.49it/s]\n"
     ]
    },
    {
     "name": "stdout",
     "output_type": "stream",
     "text": [
      "ics\n"
     ]
    },
    {
     "name": "stderr",
     "output_type": "stream",
     "text": [
      "\n",
      "\n",
      "\u001b[A\u001b[A\n",
      "\n",
      "\u001b[A\u001b[A\n",
      "\n",
      "\u001b[A\u001b[A\n",
      "\n",
      "\u001b[A\u001b[A\n",
      "\n",
      "\u001b[A\u001b[A\n",
      "\n",
      "\u001b[A\u001b[A\n",
      "\n",
      "\u001b[A\u001b[A\n",
      "\n",
      "\u001b[A\u001b[A\n",
      "\n",
      "\u001b[A\u001b[A\n",
      "\n",
      "\u001b[A\u001b[A\n",
      "\n",
      "\u001b[A\u001b[A\n",
      "\n",
      "100%|██████████| 1000/1000 [00:01<00:00, 884.56it/s]\n"
     ]
    },
    {
     "name": "stdout",
     "output_type": "stream",
     "text": [
      "iso\n",
      "psc\n",
      "bub\n",
      "pib\n"
     ]
    },
    {
     "name": "stderr",
     "output_type": "stream",
     "text": [
      "\n",
      "\n",
      "\u001b[A\u001b[A\n",
      "\n",
      "\u001b[A\u001b[A\n",
      "\n",
      "\u001b[A\u001b[A\n",
      "\n",
      "\u001b[A\u001b[A\n",
      "\n",
      "\u001b[A\u001b[A\n",
      "\n",
      "\u001b[A\u001b[A\n",
      "\n",
      "\u001b[A\u001b[A\n",
      "\n",
      "\u001b[A\u001b[A\n",
      "\n",
      "\u001b[A\u001b[A\n",
      "\n",
      "\u001b[A\u001b[A\n",
      "\n",
      "\u001b[A\u001b[A\n",
      "\n",
      "100%|██████████| 1000/1000 [00:01<00:00, 838.37it/s]\n"
     ]
    },
    {
     "name": "stdout",
     "output_type": "stream",
     "text": [
      "ics\n"
     ]
    },
    {
     "name": "stderr",
     "output_type": "stream",
     "text": [
      "\n",
      "\n",
      "\u001b[A\u001b[A\n",
      "\n",
      "\u001b[A\u001b[A\n",
      "\n",
      "\u001b[A\u001b[A\n",
      "\n",
      "\u001b[A\u001b[A\n",
      "\n",
      "\u001b[A\u001b[A\n",
      "\n",
      "\u001b[A\u001b[A\n",
      "\n",
      "\u001b[A\u001b[A\n",
      "\n",
      "\u001b[A\u001b[A\n",
      "\n",
      "\u001b[A\u001b[A\n",
      "\n",
      "\u001b[A\u001b[A\n",
      "\n",
      "\u001b[A\u001b[A\n",
      "\n",
      "100%|██████████| 1000/1000 [00:01<00:00, 842.18it/s]\n"
     ]
    },
    {
     "name": "stdout",
     "output_type": "stream",
     "text": [
      "iso\n",
      "psc\n",
      "bub\n",
      "pib\n"
     ]
    },
    {
     "name": "stderr",
     "output_type": "stream",
     "text": [
      "\n",
      "\n",
      "\u001b[A\u001b[A\n",
      "\n",
      "\u001b[A\u001b[A\n",
      "\n",
      "\u001b[A\u001b[A\n",
      "\n",
      "\u001b[A\u001b[A\n",
      "\n",
      "\u001b[A\u001b[A\n",
      "\n",
      "\u001b[A\u001b[A\n",
      "\n",
      "\u001b[A\u001b[A\n",
      "\n",
      "\u001b[A\u001b[A\n",
      "\n",
      "\u001b[A\u001b[A\n",
      "\n",
      "\u001b[A\u001b[A\n",
      "\n",
      "\u001b[A\u001b[A\n",
      "\n",
      "100%|██████████| 1000/1000 [00:01<00:00, 847.17it/s]\n"
     ]
    },
    {
     "name": "stdout",
     "output_type": "stream",
     "text": [
      "ics\n"
     ]
    },
    {
     "name": "stderr",
     "output_type": "stream",
     "text": [
      "\n",
      "\n",
      "\u001b[A\u001b[A\n",
      "\n",
      "\u001b[A\u001b[A\n",
      "\n",
      "\u001b[A\u001b[A\n",
      "\n",
      "\u001b[A\u001b[A\n",
      "\n",
      "\u001b[A\u001b[A\n",
      "\n",
      "\u001b[A\u001b[A\n",
      "\n",
      "\u001b[A\u001b[A\n",
      "\n",
      "\u001b[A\u001b[A\n",
      "\n",
      "\u001b[A\u001b[A\n",
      "\n",
      "\u001b[A\u001b[A\n",
      "\n",
      "\u001b[A\u001b[A\n",
      "\n",
      "100%|██████████| 1000/1000 [00:01<00:00, 849.10it/s]\n"
     ]
    },
    {
     "name": "stdout",
     "output_type": "stream",
     "text": [
      "iso\n",
      "psc\n",
      "bub\n",
      "pib\n"
     ]
    },
    {
     "name": "stderr",
     "output_type": "stream",
     "text": [
      "\n",
      "\n",
      "\u001b[A\u001b[A\n",
      "\n",
      "\u001b[A\u001b[A\n",
      "\n",
      "\u001b[A\u001b[A\n",
      "\n",
      "\u001b[A\u001b[A\n",
      "\n",
      "\u001b[A\u001b[A\n",
      "\n",
      "\u001b[A\u001b[A\n",
      "\n",
      "\u001b[A\u001b[A\n",
      "\n",
      "\u001b[A\u001b[A\n",
      "\n",
      "\u001b[A\u001b[A\n",
      "\n",
      "\u001b[A\u001b[A\n",
      "\n",
      "100%|██████████| 1000/1000 [00:01<00:00, 944.89it/s]\n"
     ]
    },
    {
     "name": "stdout",
     "output_type": "stream",
     "text": [
      "ics\n"
     ]
    },
    {
     "name": "stderr",
     "output_type": "stream",
     "text": [
      "\n",
      "\n",
      "\u001b[A\u001b[A\n",
      "\n",
      "\u001b[A\u001b[A\n",
      "\n",
      "\u001b[A\u001b[A\n",
      "\n",
      "\u001b[A\u001b[A\n",
      "\n",
      "\u001b[A\u001b[A\n",
      "\n",
      "\u001b[A\u001b[A\n",
      "\n",
      "\u001b[A\u001b[A\n",
      "\n",
      "\u001b[A\u001b[A\n",
      "\n",
      "\u001b[A\u001b[A\n",
      "\n",
      "\u001b[A\u001b[A\n",
      "\n",
      "100%|██████████| 1000/1000 [00:01<00:00, 955.88it/s]\n"
     ]
    },
    {
     "name": "stdout",
     "output_type": "stream",
     "text": [
      "iso\n",
      "psc\n",
      "bub\n",
      "pib\n"
     ]
    },
    {
     "name": "stderr",
     "output_type": "stream",
     "text": [
      "\n",
      "\n",
      "\u001b[A\u001b[A\n",
      "\n",
      "\u001b[A\u001b[A\n",
      "\n",
      "\u001b[A\u001b[A\n",
      "\n",
      "\u001b[A\u001b[A\n",
      "\n",
      "\u001b[A\u001b[A\n",
      "\n",
      "\u001b[A\u001b[A\n",
      "\n",
      "\u001b[A\u001b[A\n",
      "\n",
      "\u001b[A\u001b[A\n",
      "\n",
      "\u001b[A\u001b[A\n",
      "\n",
      "\u001b[A\u001b[A\n",
      "\n",
      "100%|██████████| 1000/1000 [00:01<00:00, 956.90it/s]\n"
     ]
    },
    {
     "name": "stdout",
     "output_type": "stream",
     "text": [
      "ics\n"
     ]
    },
    {
     "name": "stderr",
     "output_type": "stream",
     "text": [
      "\n",
      "\n",
      "\u001b[A\u001b[A\n",
      "\n",
      "\u001b[A\u001b[A\n",
      "\n",
      "\u001b[A\u001b[A\n",
      "\n",
      "\u001b[A\u001b[A\n",
      "\n",
      "\u001b[A\u001b[A\n",
      "\n",
      "\u001b[A\u001b[A\n",
      "\n",
      "\u001b[A\u001b[A\n",
      "\n",
      "\u001b[A\u001b[A\n",
      "\n",
      "\u001b[A\u001b[A\n",
      "\n",
      "\u001b[A\u001b[A\n",
      "\n",
      "100%|██████████| 1000/1000 [00:01<00:00, 953.39it/s]\n"
     ]
    },
    {
     "name": "stdout",
     "output_type": "stream",
     "text": [
      "iso\n",
      "psc\n",
      "bub\n",
      "pib\n"
     ]
    },
    {
     "name": "stderr",
     "output_type": "stream",
     "text": [
      "\n",
      "\n",
      "\u001b[A\u001b[A\n",
      "\n",
      "\u001b[A\u001b[A\n",
      "\n",
      "\u001b[A\u001b[A\n",
      "\n",
      "\u001b[A\u001b[A\n",
      "\n",
      "\u001b[A\u001b[A\n",
      "\n",
      "\u001b[A\u001b[A\n",
      "\n",
      "\u001b[A\u001b[A\n",
      "\n",
      "\u001b[A\u001b[A\n",
      "\n",
      "\u001b[A\u001b[A\n",
      "\n",
      "\u001b[A\u001b[A\n",
      "\n",
      "100%|██████████| 1000/1000 [00:01<00:00, 914.16it/s]\n"
     ]
    },
    {
     "name": "stdout",
     "output_type": "stream",
     "text": [
      "ics\n"
     ]
    },
    {
     "name": "stderr",
     "output_type": "stream",
     "text": [
      "\n",
      "\n",
      "\u001b[A\u001b[A\n",
      "\n",
      "\u001b[A\u001b[A\n",
      "\n",
      "\u001b[A\u001b[A\n",
      "\n",
      "\u001b[A\u001b[A\n",
      "\n",
      "\u001b[A\u001b[A\n",
      "\n",
      "\u001b[A\u001b[A\n",
      "\n",
      "\u001b[A\u001b[A\n",
      "\n",
      "\u001b[A\u001b[A\n",
      "\n",
      "\u001b[A\u001b[A\n",
      "\n",
      "\u001b[A\u001b[A\n",
      "\n",
      "100%|██████████| 1000/1000 [00:01<00:00, 929.60it/s]\n"
     ]
    },
    {
     "name": "stdout",
     "output_type": "stream",
     "text": [
      "iso\n",
      "psc\n",
      "bub\n",
      "pib\n"
     ]
    },
    {
     "name": "stderr",
     "output_type": "stream",
     "text": [
      "\n",
      "\n",
      "\u001b[A\u001b[A\n",
      "\n",
      "\u001b[A\u001b[A\n",
      "\n",
      "\u001b[A\u001b[A\n",
      "\n",
      "\u001b[A\u001b[A\n",
      "\n",
      "\u001b[A\u001b[A\n",
      "\n",
      "\u001b[A\u001b[A\n",
      "\n",
      "\u001b[A\u001b[A\n",
      "\n",
      "\u001b[A\u001b[A\n",
      "\n",
      "\u001b[A\u001b[A\n",
      "\n",
      "\u001b[A\u001b[A\n",
      "\n",
      "100%|██████████| 1000/1000 [00:01<00:00, 929.66it/s]\n"
     ]
    },
    {
     "name": "stdout",
     "output_type": "stream",
     "text": [
      "ics\n"
     ]
    },
    {
     "name": "stderr",
     "output_type": "stream",
     "text": [
      "\n",
      "\u001b[A\u001b[A\n",
      "\n",
      "\u001b[A\u001b[A\n",
      "\n",
      "\u001b[A\u001b[A\n",
      "\n",
      "\u001b[A\u001b[A\n",
      "\n",
      "\u001b[A\u001b[A\n",
      "\n",
      "\u001b[A\u001b[A\n",
      "\n",
      "\u001b[A\u001b[A\n",
      "\n",
      "\u001b[A\u001b[A\n",
      "\n",
      "\u001b[A\u001b[A\n",
      "\n",
      "\u001b[A\u001b[A\n",
      "\n",
      "100%|██████████| 1000/1000 [00:01<00:00, 926.99it/s]\n",
      "sim_seeds: 100%|██████████| 10/10 [00:25<00:00,  2.52s/it]\n",
      "svi_seeds: 100%|██████████| 1/1 [00:25<00:00, 25.23s/it]\n"
     ]
    }
   ],
   "source": [
    "temp_names_sim = rig_temp_sim + hyb_temp_sim + var_temp_sim # imported from settings file\n",
    "\n",
    "temp_sample_dict_svi_sim = []\n",
    "\n",
    "# NOTE: Indices now don't track the IDs. So, you need to keep track of the indices\n",
    "Ncs = len(c_svi_seeds)\n",
    "Ncr = len(c_sim_seeds)\n",
    "for ns in tqdm(range(Ncs), desc = 'svi_seeds'):\n",
    "    temp_sample_dict_sim = []\n",
    "    for nr in tqdm(range(Ncr), desc = 'sim_seeds'):\n",
    "        samples = samples_svi_sim[ns][nr]\n",
    "        gp_samples = gp_samples_svi_sim[ns][nr]\n",
    "        temp_sample_dict = ef.generate_temp_sample_maps(samples, ebinmodel, gp_samples = gp_samples)\n",
    "        temp_sample_dict_sim.append(temp_sample_dict)\n",
    "    temp_sample_dict_svi_sim.append(temp_sample_dict_sim)"
   ]
  },
  {
   "cell_type": "code",
   "execution_count": 48,
   "metadata": {},
   "outputs": [
    {
     "name": "stderr",
     "output_type": "stream",
     "text": [
      "sim_seeds: 100%|██████████| 10/10 [00:01<00:00,  6.46it/s]\n",
      "svi_seeds: 100%|██████████| 1/1 [00:01<00:00,  1.55s/it]\n"
     ]
    },
    {
     "data": {
      "image/png": "[encoded data removed]",
      "text/plain": [
       "<Figure size 1440x720 with 1 Axes>"
      ]
     },
     "metadata": {},
     "output_type": "display_data"
    }
   ],
   "source": [
    "fig = plt.figure(figsize=(12, 6), dpi= 120)\n",
    "ax = fig.add_subplot(111)\n",
    "\n",
    "bins = np.linspace(3,6.5,200)\n",
    "alpha = 0.2\n",
    "histtype = 'stepfilled'\n",
    "\n",
    "all_temp_names = ['iso', 'psc', 'bub', 'pib', 'ics', 'blg', 'gp', 'nfw', 'dsk']\n",
    "ccodes = ['C0', 'C1', 'C2', 'C3', 'C4', 'C5', 'C5', 'C6', 'C7']\n",
    "names = list(temp_sample_dict.keys())\n",
    "ordered_names = [name for name in all_temp_names if name in names]\n",
    "\n",
    "Ncs = len(c_svi_seeds)\n",
    "Ncr = len(c_sim_seeds)\n",
    "c = 0\n",
    "for ns in tqdm(range(Ncs), desc = 'svi_seeds'):\n",
    "    for nr in tqdm(range(Ncr), desc = 'sim_seeds'):\n",
    "        temp_sample_dict = temp_sample_dict_svi_sim[ns][nr]\n",
    "        for k in range(len(ordered_names)):\n",
    "            name = ordered_names[k]\n",
    "            idx = all_temp_names.index(name)\n",
    "            ccode = ccodes[idx]\n",
    "            # if name == 'gp':\n",
    "            #     temp_sum = jnp.exp(temp_sample_dict[name]).sum(axis = 1) # sum over spatial bins\n",
    "            #     ax.hist(np.log10(temp_sum), bins = bins, alpha = 0.75, label = name, density = True, histtype = 'step', color = ccode)\n",
    "            # else:\n",
    "            temp_sum = temp_sample_dict[name].sum(axis = 1) # sum over spatial bins\n",
    "            if c == 0:\n",
    "                ax.hist(np.log10(temp_sum), bins = bins, alpha = alpha, label = name, density = True, histtype = histtype, color = ccode)\n",
    "            else:\n",
    "                ax.hist(np.log10(temp_sum), bins = bins, alpha = alpha, density = True, histtype = histtype, color = ccode)\n",
    "\n",
    "        if temp_dict is not None:\n",
    "            names_sim = temp_names_sim # this piece is provided by the \"settings\" file since we only save a dictionary with all the fit parameters\n",
    "            ordered_names_sim = [name for name in all_temp_names if name in names_sim]\n",
    "            for k in range(len(ordered_names_sim)):\n",
    "                name = ordered_names_sim[k]\n",
    "                idx = all_temp_names.index(name)\n",
    "                ccode = ccodes[idx]\n",
    "                temp_sum_sim = temp_dict[name].sum(axis = 0)\n",
    "                ax.axvline(np.log10(temp_sum_sim), linestyle='--', c = ccode)\n",
    "        c += 1\n",
    "        \n",
    "        ax.legend()\n",
    "        ax.set_xlabel(r'$\\log_{10}(\\mathrm{counts})$')\n",
    "        ax.set_ylabel(r'$\\mathrm{density}$')\n",
    "        ax.set_title(r'$\\mathrm{Counts\\ in\\ Unmasked\\ Region}$')"
   ]
  },
  {
   "cell_type": "code",
   "execution_count": null,
   "metadata": {},
   "outputs": [],
   "source": [
    "fig = plt.figure(figsize=(12, 6), dpi= 120)\n",
    "ax = fig.add_subplot(111)\n",
    "\n",
    "all_temp_names = ['iso', 'psc', 'bub', 'pib', 'ics', 'blg', 'gp', 'nfw', 'dsk']\n",
    "ccodes = ['C0', 'C1', 'C2', 'C3', 'C4', 'C5', 'C5', 'C6', 'C7']\n",
    "names = list(temp_sample_dict.keys())\n",
    "\n",
    "ordered_names = [name for name in all_temp_names if name in names]\n",
    "for k in range(len(ordered_names)):\n",
    "    name = ordered_names[k]\n",
    "    idx = all_temp_names.index(name)\n",
    "    ccode = ccodes[idx]\n",
    "    # if name == 'gp':\n",
    "    #     temp_sum = jnp.exp(temp_sample_dict[name]).sum(axis = 1) # sum over spatial bins\n",
    "    #     ax.hist(np.log10(temp_sum), bins = bins, alpha = 0.75, label = name, density = True, histtype = 'step', color = ccode)\n",
    "    # else:\n",
    "    temp_sum = temp_sample_dict[name].sum(axis = 1) # sum over spatial bins\n",
    "    ax.hist(np.log10(temp_sum), bins = bins, alpha = 0.75, label = name, density = True, histtype = 'step', color = ccode)\n",
    "\n",
    "if temp_sim_dict is not None:\n",
    "    names_sim = temp_sim_names # this piece is provided by the \"settings\" file since we only save a dictionary with all the fit parameters\n",
    "    ordered_names_sim = [name for name in all_temp_names if name in names_sim]\n",
    "    for k in range(len(ordered_names_sim)):\n",
    "        name = ordered_names_sim[k]\n",
    "        idx = all_temp_names.index(name)\n",
    "        ccode = ccodes[idx]\n",
    "        temp_sum_sim = temp_sim_dict[name].sum(axis = 0)\n",
    "        ax.axvline(np.log10(temp_sum_sim), linestyle='--', c = ccode)\n",
    "\n",
    "ax.legend()\n",
    "ax.set_xlabel(r'$\\log_{10}(\\mathrm{counts})$')\n",
    "ax.set_ylabel(r'$\\mathrm{density}$')\n",
    "ax.set_title(r'$\\mathrm{Counts\\ in\\ Unmasked\\ Region}$')"
   ]
  }
 ],
 "metadata": {
  "kernelspec": {
   "display_name": "jax",
   "language": "python",
   "name": "python3"
  },
  "language_info": {
   "codemirror_mode": {
    "name": "ipython",
    "version": 3
   },
   "file_extension": ".py",
   "mimetype": "text/x-python",
   "name": "python",
   "nbconvert_exporter": "python",
   "pygments_lexer": "ipython3",
   "version": "3.11.4"
  }
 },
 "nbformat": 4,
 "nbformat_minor": 2
}
