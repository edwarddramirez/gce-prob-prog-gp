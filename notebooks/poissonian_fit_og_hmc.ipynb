{
 "cells": [
  {
   "cell_type": "code",
   "execution_count": 1,
   "metadata": {},
   "outputs": [],
   "source": [
    "%reload_ext autoreload\n",
    "%autoreload 2\n",
    "\n",
    "import sys\n",
    "sys.path.append(\"..\")\n",
    "\n",
    "import numpy as np\n",
    "import healpy as hp\n",
    "from astropy.io import fits\n",
    "from pprint import pprint\n",
    "from tqdm import tqdm\n",
    "import pickle\n",
    "import corner\n",
    "import os\n",
    "\n",
    "from scipy import optimize\n",
    "from scipy.stats import poisson\n",
    "\n",
    "import jax\n",
    "\n",
    "%matplotlib inline\n",
    "import matplotlib as mpl\n",
    "import matplotlib.pyplot as plt\n",
    "mpl.rc_file('../utils/matplotlibrc')"
   ]
  },
  {
   "cell_type": "code",
   "execution_count": 2,
   "metadata": {},
   "outputs": [
    {
     "name": "stderr",
     "output_type": "stream",
     "text": [
      "/home/edr76/.conda/envs/jax/lib/python3.11/site-packages/tqdm/auto.py:21: TqdmWarning: IProgress not found. Please update jupyter and ipywidgets. See https://ipywidgets.readthedocs.io/en/stable/user_install.html\n",
      "  from .autonotebook import tqdm as notebook_tqdm\n",
      "100%|██████████| 10000/10000 [00:17<00:00, 558.53it/s, init loss: 279752480.0000, avg. loss [9501-10000]: 48518880.0000]\n",
      "sample: 100%|██████████| 200000/200000 [05:38<00:00, 590.93it/s]\n"
     ]
    }
   ],
   "source": [
    "from models.poissonian_og import EbinPoissonModel\n",
    "ebinmodel = EbinPoissonModel(nside=128, nfw_gamma = 1.)\n",
    "ebinmodel.config_model(ebin=10)\n",
    "svi_results = ebinmodel.fit_SVI(\n",
    "    rng_key=jax.random.PRNGKey(0),\n",
    "    guide='iaf', \n",
    "    n_steps=10000, lr=5e-5, num_particles=16,\n",
    "    ebin=10,\n",
    ")\n",
    "\n",
    "jax.config.update('jax_enable_x64', True)\n",
    "ebinmodel.run_parallel_tempering_hmc(num_samples=50000, use_neutra=False, num_adaptation_steps = 150000)\n",
    "samples = ebinmodel.expand_samples(ebinmodel.pt_mcmc.get_samples())\n",
    "pickle.dump(samples, open('ebin10_pthmc_50000_250000_upscaledLL.p', 'wb'))"
   ]
  },
  {
   "cell_type": "code",
   "execution_count": 3,
   "metadata": {},
   "outputs": [
    {
     "data": {
      "text/plain": [
       "Text(0, 0.5, 'Loss')"
      ]
     },
     "execution_count": 3,
     "metadata": {},
     "output_type": "execute_result"
    },
    {
     "data": {
      "image/png": "[encoded data removed]",
      "text/plain": [
       "<Figure size 720x480 with 1 Axes>"
      ]
     },
     "metadata": {},
     "output_type": "display_data"
    }
   ],
   "source": [
    "plt.plot(svi_results.losses)\n",
    "plt.xlabel('iteration')\n",
    "plt.ylabel('Loss')  "
   ]
  },
  {
   "cell_type": "code",
   "execution_count": 4,
   "metadata": {},
   "outputs": [],
   "source": [
    "# save svi results and samples to file\n",
    "\n",
    "file_name = ('ebin10' + '_smp_svi_' + '131' + '.p')\n",
    "pickle.dump(\n",
    "    (samples, svi_results), \n",
    "    open(file_name, 'wb'))"
   ]
  },
  {
   "cell_type": "code",
   "execution_count": null,
   "metadata": {},
   "outputs": [],
   "source": []
  }
 ],
 "metadata": {
  "kernelspec": {
   "display_name": "jax",
   "language": "python",
   "name": "python3"
  },
  "language_info": {
   "codemirror_mode": {
    "name": "ipython",
    "version": 3
   },
   "file_extension": ".py",
   "mimetype": "text/x-python",
   "name": "python",
   "nbconvert_exporter": "python",
   "pygments_lexer": "ipython3",
   "version": "3.11.4"
  }
 },
 "nbformat": 4,
 "nbformat_minor": 2
}
